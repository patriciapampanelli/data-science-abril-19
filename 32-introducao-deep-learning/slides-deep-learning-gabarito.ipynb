{
 "cells": [
  {
   "cell_type": "markdown",
   "metadata": {
    "slideshow": {
     "slide_type": "slide"
    }
   },
   "source": [
    "# Aula 32 - Deep Learning\n",
    "\n",
    "<center>\n",
    "<img src=\"./images/deep-learning.png\" alt=\"drawing\" width=\"500px\"></center>"
   ]
  },
  {
   "cell_type": "markdown",
   "metadata": {
    "slideshow": {
     "slide_type": "subslide"
    }
   },
   "source": [
    "# Pré-aula\n",
    "\n",
    "Perceptron: The Artificial Neuron (An Essential Upgrade To The McCulloch-Pitts Neuron)\n",
    "https://towardsdatascience.com/perceptron-the-artificial-neuron-4d8c70d5cc8d\n",
    "\n",
    "What the Hell is Perceptron?\n",
    "https://towardsdatascience.com/what-the-hell-is-perceptron-626217814f53\n",
    "\n",
    "Towards Ethical Machine Learning\n",
    "https://towardsdatascience.com/towards-ethical-machine-learning-302e580f5815"
   ]
  },
  {
   "cell_type": "markdown",
   "metadata": {
    "slideshow": {
     "slide_type": "slide"
    }
   },
   "source": [
    "# Expectativas\n",
    "\n",
    "<center>\n",
    "<img src=\"./images/expectations.jpg\" alt=\"drawing\" width=\"700px\"></center>"
   ]
  },
  {
   "cell_type": "markdown",
   "metadata": {
    "slideshow": {
     "slide_type": "slide"
    }
   },
   "source": [
    "**Instrutora:** Patrícia Pampanelli (@patriciapampanelli no Slack)\n",
    "\n",
    "**Experiência:**\n",
    "- Cientista da Computação (UFJF)\n",
    "- Mestre em Modelagem Computacional (UFJF)\n",
    "- Doutora em Processamento de Imagens e Visão Computacional (PUC-Rio)\n",
    "- Sênior Data Scientist - Grupo ZAP\n"
   ]
  },
  {
   "cell_type": "markdown",
   "metadata": {
    "slideshow": {
     "slide_type": "slide"
    }
   },
   "source": [
    "**Interesses:**\n",
    "- Carros Autônomos <img src=\"./images/car.png\" alt=\"drawing\" width=\"80px\">\n",
    "- Visão Computacional <img src=\"./images/eye.png\" alt=\"drawing\" width=\"80px\">\n",
    "- Processamento de Linguagem Natural <img src=\"./images/text.png\" alt=\"drawing\" width=\"80px\">\n",
    "- Intelligent Video Analytics <img src=\"./images/camera.jpg\" alt=\"drawing\" width=\"80px\">"
   ]
  },
  {
   "cell_type": "markdown",
   "metadata": {
    "slideshow": {
     "slide_type": "slide"
    }
   },
   "source": [
    "# Recordando...\n",
    "\n",
    "<center>\n",
    "<img src=\"./images/recapitulando.png\" alt=\"drawing\" width=\"450px\"></center>"
   ]
  },
  {
   "cell_type": "markdown",
   "metadata": {
    "slideshow": {
     "slide_type": "slide"
    }
   },
   "source": [
    "# Recordando...\n",
    "\n",
    "<center>\n",
    "<img src=\"./images/recap.png\" alt=\"drawing\" width=\"650px\"></center>"
   ]
  },
  {
   "cell_type": "markdown",
   "metadata": {
    "slideshow": {
     "slide_type": "slide"
    }
   },
   "source": [
    "# Recordando...\n",
    "\n",
    "<center>\n",
    "<img src=\"./images/unsupervised.png\" alt=\"drawing\" width=\"700px\"></center>"
   ]
  },
  {
   "cell_type": "markdown",
   "metadata": {
    "slideshow": {
     "slide_type": "slide"
    }
   },
   "source": [
    "# Recordando...\n",
    "\n",
    "<center>\n",
    "<img src=\"./images/supervised.png\" alt=\"drawing\" width=\"700px\"></center>"
   ]
  },
  {
   "cell_type": "markdown",
   "metadata": {
    "slideshow": {
     "slide_type": "slide"
    }
   },
   "source": [
    "# AI mudando nossas vidas...\n",
    "\n",
    "<center>\n",
    "<img src=\"./images/iamai.jpg\" alt=\"drawing\" width=\"700px\"></center>\n",
    "https://www.youtube.com/watch?v=GiZ7kyrwZGQ"
   ]
  },
  {
   "cell_type": "markdown",
   "metadata": {
    "slideshow": {
     "slide_type": "slide"
    }
   },
   "source": [
    "<center>\n",
    "<img src=\"./images/machine-deep.png\" alt=\"drawing\" width=\"700px\"></center>"
   ]
  },
  {
   "cell_type": "markdown",
   "metadata": {
    "slideshow": {
     "slide_type": "slide"
    }
   },
   "source": [
    "# Processo de admissão de uma pós-graduação\n",
    "\n",
    "<center>\n",
    "<img src=\"./images/grad.png\" alt=\"drawing\" width=\"400px\"></center>"
   ]
  },
  {
   "cell_type": "markdown",
   "metadata": {
    "slideshow": {
     "slide_type": "subslide"
    }
   },
   "source": [
    "<center>\n",
    "<img src=\"./images/grad_1.png\" alt=\"drawing\" width=\"600px\"></center>"
   ]
  },
  {
   "cell_type": "markdown",
   "metadata": {
    "slideshow": {
     "slide_type": "subslide"
    }
   },
   "source": [
    "<center>\n",
    "<img src=\"./images/grad_2.png\" alt=\"drawing\" width=\"600px\"></center>"
   ]
  },
  {
   "cell_type": "markdown",
   "metadata": {
    "slideshow": {
     "slide_type": "subslide"
    }
   },
   "source": [
    "<center>\n",
    "<img src=\"./images/grad_3.png\" alt=\"drawing\" width=\"600px\"></center>"
   ]
  },
  {
   "cell_type": "markdown",
   "metadata": {
    "slideshow": {
     "slide_type": "subslide"
    }
   },
   "source": [
    "<center>\n",
    "<img src=\"./images/grad_4.png\" alt=\"drawing\" width=\"600px\"></center>"
   ]
  },
  {
   "cell_type": "markdown",
   "metadata": {
    "slideshow": {
     "slide_type": "subslide"
    }
   },
   "source": [
    "<center>\n",
    "<img src=\"./images/grad_5.png\" alt=\"drawing\" width=\"600px\"></center>"
   ]
  },
  {
   "cell_type": "markdown",
   "metadata": {
    "slideshow": {
     "slide_type": "subslide"
    }
   },
   "source": [
    "<center>\n",
    "<img src=\"./images/grad_6.png\" alt=\"drawing\" width=\"600px\"></center>"
   ]
  },
  {
   "cell_type": "markdown",
   "metadata": {
    "slideshow": {
     "slide_type": "subslide"
    }
   },
   "source": [
    "<center>\n",
    "<img src=\"./images/grad_7.png\" alt=\"drawing\" width=\"600px\"></center>"
   ]
  },
  {
   "cell_type": "markdown",
   "metadata": {
    "slideshow": {
     "slide_type": "subslide"
    }
   },
   "source": [
    "<center>\n",
    "<img src=\"./images/grad_8.png\" alt=\"drawing\" width=\"600px\"></center>"
   ]
  },
  {
   "cell_type": "markdown",
   "metadata": {
    "slideshow": {
     "slide_type": "slide"
    }
   },
   "source": [
    "# Perceptron\n",
    "\n",
    "<center>\n",
    "<img src=\"./images/perceptron.png\" alt=\"drawing\" width=\"700px\"></center>"
   ]
  },
  {
   "cell_type": "markdown",
   "metadata": {
    "slideshow": {
     "slide_type": "slide"
    }
   },
   "source": [
    "# Funções de ativação\n",
    "\n",
    "<center>\n",
    "<img src=\"./images/activation_functions.png\" alt=\"drawing\" width=\"800px\"></center>"
   ]
  },
  {
   "cell_type": "markdown",
   "metadata": {
    "slideshow": {
     "slide_type": "slide"
    }
   },
   "source": [
    "# Keras e Tensorflow\n",
    "\n",
    "<center>\n",
    "<img src=\"./images/keras-tensorflow.jpg\" alt=\"drawing\" width=\"800px\"></center>\n",
    "\n",
    "Ref: https://keras.io/ / https://www.tensorflow.org/"
   ]
  },
  {
   "cell_type": "markdown",
   "metadata": {
    "slideshow": {
     "slide_type": "slide"
    }
   },
   "source": [
    "# Minha primeira rede neural em Keras...\n",
    "\n",
    "<center>\n",
    "<img src=\"./images/first_neural.jpg\" alt=\"drawing\" width=\"400px\"></center>"
   ]
  },
  {
   "cell_type": "code",
   "execution_count": 1,
   "metadata": {
    "scrolled": true,
    "slideshow": {
     "slide_type": "subslide"
    }
   },
   "outputs": [
    {
     "name": "stderr",
     "output_type": "stream",
     "text": [
      "Using TensorFlow backend.\n"
     ]
    },
    {
     "name": "stdout",
     "output_type": "stream",
     "text": [
      "2.2.4\n"
     ]
    }
   ],
   "source": [
    "# Pacotes necessários para a construção da rede neural\n",
    "#!pip3 install keras\n",
    "import keras\n",
    "# https://keras.io/models/sequential/\n",
    "from keras.models import Sequential\n",
    "# Layers: https://keras.io/layers/core/\n",
    "from keras.layers import Dense\n",
    "# https://keras.io/scikit-learn-api/\n",
    "from keras.wrappers.scikit_learn import KerasRegressor\n",
    "print(keras.__version__)\n",
    "\n",
    "import matplotlib.pyplot as plt\n",
    "import pandas as pd"
   ]
  },
  {
   "cell_type": "code",
   "execution_count": 2,
   "metadata": {
    "slideshow": {
     "slide_type": "subslide"
    }
   },
   "outputs": [
    {
     "data": {
      "text/html": [
       "<div>\n",
       "<style scoped>\n",
       "    .dataframe tbody tr th:only-of-type {\n",
       "        vertical-align: middle;\n",
       "    }\n",
       "\n",
       "    .dataframe tbody tr th {\n",
       "        vertical-align: top;\n",
       "    }\n",
       "\n",
       "    .dataframe thead th {\n",
       "        text-align: right;\n",
       "    }\n",
       "</style>\n",
       "<table border=\"1\" class=\"dataframe\">\n",
       "  <thead>\n",
       "    <tr style=\"text-align: right;\">\n",
       "      <th></th>\n",
       "      <th>GRE</th>\n",
       "      <th>TOEFL</th>\n",
       "      <th>University Rating</th>\n",
       "      <th>SOP</th>\n",
       "      <th>LOR</th>\n",
       "      <th>CGPA</th>\n",
       "      <th>Research</th>\n",
       "      <th>Admission_Chance</th>\n",
       "    </tr>\n",
       "  </thead>\n",
       "  <tbody>\n",
       "    <tr>\n",
       "      <th>0</th>\n",
       "      <td>337</td>\n",
       "      <td>118</td>\n",
       "      <td>4</td>\n",
       "      <td>4.5</td>\n",
       "      <td>4.5</td>\n",
       "      <td>9.65</td>\n",
       "      <td>1</td>\n",
       "      <td>0.92</td>\n",
       "    </tr>\n",
       "    <tr>\n",
       "      <th>1</th>\n",
       "      <td>324</td>\n",
       "      <td>107</td>\n",
       "      <td>4</td>\n",
       "      <td>4.0</td>\n",
       "      <td>4.5</td>\n",
       "      <td>8.87</td>\n",
       "      <td>1</td>\n",
       "      <td>0.76</td>\n",
       "    </tr>\n",
       "    <tr>\n",
       "      <th>2</th>\n",
       "      <td>316</td>\n",
       "      <td>104</td>\n",
       "      <td>3</td>\n",
       "      <td>3.0</td>\n",
       "      <td>3.5</td>\n",
       "      <td>8.00</td>\n",
       "      <td>1</td>\n",
       "      <td>0.72</td>\n",
       "    </tr>\n",
       "    <tr>\n",
       "      <th>3</th>\n",
       "      <td>322</td>\n",
       "      <td>110</td>\n",
       "      <td>3</td>\n",
       "      <td>3.5</td>\n",
       "      <td>2.5</td>\n",
       "      <td>8.67</td>\n",
       "      <td>1</td>\n",
       "      <td>0.80</td>\n",
       "    </tr>\n",
       "    <tr>\n",
       "      <th>4</th>\n",
       "      <td>314</td>\n",
       "      <td>103</td>\n",
       "      <td>2</td>\n",
       "      <td>2.0</td>\n",
       "      <td>3.0</td>\n",
       "      <td>8.21</td>\n",
       "      <td>0</td>\n",
       "      <td>0.65</td>\n",
       "    </tr>\n",
       "    <tr>\n",
       "      <th>5</th>\n",
       "      <td>330</td>\n",
       "      <td>115</td>\n",
       "      <td>5</td>\n",
       "      <td>4.5</td>\n",
       "      <td>3.0</td>\n",
       "      <td>9.34</td>\n",
       "      <td>1</td>\n",
       "      <td>0.90</td>\n",
       "    </tr>\n",
       "    <tr>\n",
       "      <th>6</th>\n",
       "      <td>321</td>\n",
       "      <td>109</td>\n",
       "      <td>3</td>\n",
       "      <td>3.0</td>\n",
       "      <td>4.0</td>\n",
       "      <td>8.20</td>\n",
       "      <td>1</td>\n",
       "      <td>0.75</td>\n",
       "    </tr>\n",
       "    <tr>\n",
       "      <th>7</th>\n",
       "      <td>308</td>\n",
       "      <td>101</td>\n",
       "      <td>2</td>\n",
       "      <td>3.0</td>\n",
       "      <td>4.0</td>\n",
       "      <td>7.90</td>\n",
       "      <td>0</td>\n",
       "      <td>0.68</td>\n",
       "    </tr>\n",
       "    <tr>\n",
       "      <th>8</th>\n",
       "      <td>302</td>\n",
       "      <td>102</td>\n",
       "      <td>1</td>\n",
       "      <td>2.0</td>\n",
       "      <td>1.5</td>\n",
       "      <td>8.00</td>\n",
       "      <td>0</td>\n",
       "      <td>0.50</td>\n",
       "    </tr>\n",
       "    <tr>\n",
       "      <th>9</th>\n",
       "      <td>323</td>\n",
       "      <td>108</td>\n",
       "      <td>3</td>\n",
       "      <td>3.5</td>\n",
       "      <td>3.0</td>\n",
       "      <td>8.60</td>\n",
       "      <td>0</td>\n",
       "      <td>0.45</td>\n",
       "    </tr>\n",
       "  </tbody>\n",
       "</table>\n",
       "</div>"
      ],
      "text/plain": [
       "   GRE  TOEFL  University Rating  SOP  LOR   CGPA  Research  Admission_Chance\n",
       "0  337    118                  4  4.5   4.5  9.65         1              0.92\n",
       "1  324    107                  4  4.0   4.5  8.87         1              0.76\n",
       "2  316    104                  3  3.0   3.5  8.00         1              0.72\n",
       "3  322    110                  3  3.5   2.5  8.67         1              0.80\n",
       "4  314    103                  2  2.0   3.0  8.21         0              0.65\n",
       "5  330    115                  5  4.5   3.0  9.34         1              0.90\n",
       "6  321    109                  3  3.0   4.0  8.20         1              0.75\n",
       "7  308    101                  2  3.0   4.0  7.90         0              0.68\n",
       "8  302    102                  1  2.0   1.5  8.00         0              0.50\n",
       "9  323    108                  3  3.5   3.0  8.60         0              0.45"
      ]
     },
     "execution_count": 2,
     "metadata": {},
     "output_type": "execute_result"
    }
   ],
   "source": [
    "# Dados de treinamento\n",
    "import numpy as np\n",
    "\n",
    "# https://www.kaggle.com/mohansacharya/graduate-admissions\n",
    "# Histórico / Prova\n",
    "df = pd.read_csv(\"./admission_dataset.csv\")\n",
    "df = df.rename(index=str, columns={\"GRE Score\": \"GRE\", \n",
    "                                   \"TOEFL Score\": \"TOEFL\", \n",
    "                                   \"Chance of Admit \": \"Admission_Chance\"})\n",
    "df = df.drop(\"Serial No.\", axis=1)\n",
    "df.head(10)"
   ]
  },
  {
   "cell_type": "code",
   "execution_count": 4,
   "metadata": {
    "slideshow": {
     "slide_type": "subslide"
    }
   },
   "outputs": [
    {
     "name": "stdout",
     "output_type": "stream",
     "text": [
      "_________________________________________________________________\n",
      "Layer (type)                 Output Shape              Param #   \n",
      "=================================================================\n",
      "input (Dense)                (None, 4)                 32        \n",
      "_________________________________________________________________\n",
      "output (Dense)               (None, 1)                 5         \n",
      "=================================================================\n",
      "Total params: 37\n",
      "Trainable params: 37\n",
      "Non-trainable params: 0\n",
      "_________________________________________________________________\n",
      "None\n"
     ]
    }
   ],
   "source": [
    "# Criando o modelo\n",
    "def baseline_model():\n",
    "    \n",
    "    model = Sequential()    \n",
    "    model.add(Dense(4, input_dim=7, activation='relu', name='input'))\n",
    "    model.add(Dense(1, name='output'))\n",
    "    \n",
    "    # Compile model\n",
    "    model.compile(loss='mean_squared_error', optimizer='adam')\n",
    "    return model\n",
    "\n",
    "# https://keras.io/models/about-keras-models/\n",
    "print(baseline_model().summary())"
   ]
  },
  {
   "cell_type": "markdown",
   "metadata": {
    "slideshow": {
     "slide_type": "slide"
    }
   },
   "source": [
    "# Exercício 1 - Explorando os dados e Alterando a arquitetura da rede\n",
    "\n",
    "Nosso objetivo com este exercício é construir uma nova rede com a seguinte arquitetura:\n",
    "\n",
    "<center>\n",
    "<img src=\"./images/model.png\" alt=\"drawing\" width=\"300px\"></center>\n",
    "\n",
    "Além disso, espera-se que vocês explorem os dados para conhecer um pouco mais sobre o dataset:\n",
    "- Qual o tipo de dados?\n",
    "- Qual a distribuição destes dados?\n",
    "- O que podemos faslar sobre as features?\n",
    "\n",
    "_Tempo: 10 minutos_"
   ]
  },
  {
   "cell_type": "code",
   "execution_count": null,
   "metadata": {
    "slideshow": {
     "slide_type": "subslide"
    }
   },
   "outputs": [],
   "source": [
    "# Criando o modelo\n",
    "def baseline_model():\n",
    "    \n",
    "    model = Sequential()    \n",
    "    # TODO: Inserir as camadas de acordo com a arquitetura acima\n",
    "    \n",
    "    model.add(Dense(1))\n",
    "    \n",
    "    # Compile model\n",
    "    model.compile(loss='mean_squared_error', optimizer='adam')\n",
    "    return model\n",
    "\n",
    "print(baseline_model().summary())"
   ]
  },
  {
   "cell_type": "code",
   "execution_count": 6,
   "metadata": {
    "slideshow": {
     "slide_type": "subslide"
    }
   },
   "outputs": [
    {
     "data": {
      "text/html": [
       "<div>\n",
       "<style scoped>\n",
       "    .dataframe tbody tr th:only-of-type {\n",
       "        vertical-align: middle;\n",
       "    }\n",
       "\n",
       "    .dataframe tbody tr th {\n",
       "        vertical-align: top;\n",
       "    }\n",
       "\n",
       "    .dataframe thead th {\n",
       "        text-align: right;\n",
       "    }\n",
       "</style>\n",
       "<table border=\"1\" class=\"dataframe\">\n",
       "  <thead>\n",
       "    <tr style=\"text-align: right;\">\n",
       "      <th></th>\n",
       "      <th>GRE</th>\n",
       "      <th>TOEFL</th>\n",
       "      <th>University Rating</th>\n",
       "      <th>SOP</th>\n",
       "      <th>LOR</th>\n",
       "      <th>CGPA</th>\n",
       "      <th>Research</th>\n",
       "      <th>Admission_Chance</th>\n",
       "    </tr>\n",
       "  </thead>\n",
       "  <tbody>\n",
       "    <tr>\n",
       "      <th>0</th>\n",
       "      <td>337</td>\n",
       "      <td>118</td>\n",
       "      <td>4</td>\n",
       "      <td>4.5</td>\n",
       "      <td>4.5</td>\n",
       "      <td>9.65</td>\n",
       "      <td>1</td>\n",
       "      <td>0.92</td>\n",
       "    </tr>\n",
       "    <tr>\n",
       "      <th>1</th>\n",
       "      <td>324</td>\n",
       "      <td>107</td>\n",
       "      <td>4</td>\n",
       "      <td>4.0</td>\n",
       "      <td>4.5</td>\n",
       "      <td>8.87</td>\n",
       "      <td>1</td>\n",
       "      <td>0.76</td>\n",
       "    </tr>\n",
       "    <tr>\n",
       "      <th>2</th>\n",
       "      <td>316</td>\n",
       "      <td>104</td>\n",
       "      <td>3</td>\n",
       "      <td>3.0</td>\n",
       "      <td>3.5</td>\n",
       "      <td>8.00</td>\n",
       "      <td>1</td>\n",
       "      <td>0.72</td>\n",
       "    </tr>\n",
       "    <tr>\n",
       "      <th>3</th>\n",
       "      <td>322</td>\n",
       "      <td>110</td>\n",
       "      <td>3</td>\n",
       "      <td>3.5</td>\n",
       "      <td>2.5</td>\n",
       "      <td>8.67</td>\n",
       "      <td>1</td>\n",
       "      <td>0.80</td>\n",
       "    </tr>\n",
       "    <tr>\n",
       "      <th>4</th>\n",
       "      <td>314</td>\n",
       "      <td>103</td>\n",
       "      <td>2</td>\n",
       "      <td>2.0</td>\n",
       "      <td>3.0</td>\n",
       "      <td>8.21</td>\n",
       "      <td>0</td>\n",
       "      <td>0.65</td>\n",
       "    </tr>\n",
       "  </tbody>\n",
       "</table>\n",
       "</div>"
      ],
      "text/plain": [
       "   GRE  TOEFL  University Rating  SOP  LOR   CGPA  Research  Admission_Chance\n",
       "0  337    118                  4  4.5   4.5  9.65         1              0.92\n",
       "1  324    107                  4  4.0   4.5  8.87         1              0.76\n",
       "2  316    104                  3  3.0   3.5  8.00         1              0.72\n",
       "3  322    110                  3  3.5   2.5  8.67         1              0.80\n",
       "4  314    103                  2  2.0   3.0  8.21         0              0.65"
      ]
     },
     "execution_count": 6,
     "metadata": {},
     "output_type": "execute_result"
    }
   ],
   "source": [
    "df.head()"
   ]
  },
  {
   "cell_type": "code",
   "execution_count": 7,
   "metadata": {
    "scrolled": true,
    "slideshow": {
     "slide_type": "subslide"
    }
   },
   "outputs": [
    {
     "data": {
      "text/plain": [
       "Text(0.5, 1.0, 'GRE')"
      ]
     },
     "execution_count": 7,
     "metadata": {},
     "output_type": "execute_result"
    },
    {
     "data": {
      "image/png": "[encoded data removed]",
      "text/plain": [
       "<Figure size 432x288 with 1 Axes>"
      ]
     },
     "metadata": {
      "needs_background": "light"
     },
     "output_type": "display_data"
    }
   ],
   "source": [
    "import seaborn as sns\n",
    "\n",
    "sns.distplot(df['GRE'], color='red', bins=20)\n",
    "plt.title('GRE', fontsize=18)"
   ]
  },
  {
   "cell_type": "code",
   "execution_count": 8,
   "metadata": {
    "slideshow": {
     "slide_type": "subslide"
    }
   },
   "outputs": [
    {
     "data": {
      "text/plain": [
       "<matplotlib.axes._subplots.AxesSubplot at 0x7fb969f9b6a0>"
      ]
     },
     "execution_count": 8,
     "metadata": {},
     "output_type": "execute_result"
    },
    {
     "data": {
      "image/png": "[encoded data removed]",
      "text/plain": [
       "<Figure size 792x648 with 2 Axes>"
      ]
     },
     "metadata": {
      "needs_background": "light"
     },
     "output_type": "display_data"
    }
   ],
   "source": [
    "# Compute the correlation matrix\n",
    "corr = df.corr()\n",
    "\n",
    "# Generate a mask for the upper triangle\n",
    "mask = np.zeros_like(corr, dtype = np.bool)\n",
    "mask[np.triu_indices_from(mask)] = True\n",
    "\n",
    "# Set up the matplotlib figure\n",
    "f, ax = plt.subplots(figsize=(11, 9))\n",
    "\n",
    "# Generate a custom diverging colormap\n",
    "cmap = sns.diverging_palette(220, 10, as_cmap=True)\n",
    "\n",
    "# Draw the heatmap with the mask and correct aspect ratio\n",
    "sns.heatmap(corr, mask=mask, cmap=cmap, vmax=1, vmin=0, center=0,\n",
    "            square=True, linewidths=.5, cbar_kws={\"shrink\": .5})"
   ]
  },
  {
   "cell_type": "code",
   "execution_count": 5,
   "metadata": {
    "slideshow": {
     "slide_type": "subslide"
    }
   },
   "outputs": [
    {
     "name": "stdout",
     "output_type": "stream",
     "text": [
      "_________________________________________________________________\n",
      "Layer (type)                 Output Shape              Param #   \n",
      "=================================================================\n",
      "layer_1 (Dense)              (None, 16)                128       \n",
      "_________________________________________________________________\n",
      "layer_2 (Dense)              (None, 8)                 136       \n",
      "_________________________________________________________________\n",
      "layer_3 (Dense)              (None, 4)                 36        \n",
      "_________________________________________________________________\n",
      "output (Dense)               (None, 1)                 5         \n",
      "=================================================================\n",
      "Total params: 305\n",
      "Trainable params: 305\n",
      "Non-trainable params: 0\n",
      "_________________________________________________________________\n",
      "None\n"
     ]
    }
   ],
   "source": [
    "# Criando o modelo\n",
    "def baseline_model():\n",
    "    \n",
    "    model = Sequential()    \n",
    "    model.add(Dense(16, input_dim=7, activation='relu', name='layer_1'))\n",
    "    model.add(Dense(8, activation='relu', name='layer_2'))\n",
    "    model.add(Dense(4, activation='relu', name='layer_3'))\n",
    "    model.add(Dense(1, name='output'))\n",
    "    \n",
    "    # Compile model\n",
    "    model.compile(loss='mean_squared_error', optimizer='adam')\n",
    "    return model\n",
    "\n",
    "print(baseline_model().summary())\n",
    "\n",
    "#from keras.utils.vis_utils import plot_model\n",
    "#plot_model(baseline_model(), show_shapes=True, show_layer_names=True)"
   ]
  },
  {
   "cell_type": "markdown",
   "metadata": {
    "slideshow": {
     "slide_type": "slide"
    }
   },
   "source": [
    "<center>\n",
    "<img src=\"./images/coffee.png\" alt=\"drawing\" width=\"300px\"></center>"
   ]
  },
  {
   "cell_type": "markdown",
   "metadata": {
    "slideshow": {
     "slide_type": "slide"
    }
   },
   "source": [
    "# Como uma rede neural aprende?\n",
    "\n",
    "<center>\n",
    "<img src=\"./images/math.gif\" alt=\"drawing\" width=\"700px\"></center>"
   ]
  },
  {
   "cell_type": "markdown",
   "metadata": {
    "slideshow": {
     "slide_type": "slide"
    }
   },
   "source": [
    "# Gradiente descendente!!\n",
    "\n",
    "<center>\n",
    "<img src=\"./images/gradient.png\" alt=\"drawing\" width=\"700px\"></center>"
   ]
  },
  {
   "cell_type": "markdown",
   "metadata": {
    "slideshow": {
     "slide_type": "slide"
    }
   },
   "source": [
    "# Como atualizamos os pesos da rede?\n",
    "\n",
    "## Backpropagation!\n",
    "\n",
    "<center>\n",
    "<img src=\"./images/backpropagation.png\" alt=\"drawing\" width=\"700px\"></center>"
   ]
  },
  {
   "cell_type": "code",
   "execution_count": 10,
   "metadata": {
    "slideshow": {
     "slide_type": "subslide"
    }
   },
   "outputs": [],
   "source": [
    "# Pré processamento\n",
    "X = np.asarray(df.drop(\"Admission_Chance\", axis=1))\n",
    "Y = np.asarray(df[\"Admission_Chance\"])\n",
    "\n",
    "# https://scikit-learn.org/stable/modules/generated/sklearn.model_selection.train_test_split.html\n",
    "from sklearn.model_selection import train_test_split\n",
    "X_train, X_test, y_train, y_test = train_test_split(X, Y, test_size = 0.2, random_state = 0)\n",
    "\n",
    "# https://scikit-learn.org/stable/modules/generated/sklearn.preprocessing.MinMaxScaler.html\n",
    "from sklearn.preprocessing import MinMaxScaler\n",
    "scaler =  MinMaxScaler()\n",
    "X_train = scaler.fit_transform(X_train)\n",
    "X_test = scaler.fit_transform(X_test)"
   ]
  },
  {
   "cell_type": "code",
   "execution_count": 11,
   "metadata": {
    "scrolled": true,
    "slideshow": {
     "slide_type": "subslide"
    }
   },
   "outputs": [
    {
     "name": "stdout",
     "output_type": "stream",
     "text": [
      "Epoch 1/100\n",
      "400/400 [==============================] - 0s 1ms/step - loss: 0.3339\n",
      "Epoch 2/100\n",
      "400/400 [==============================] - 0s 290us/step - loss: 0.0059\n",
      "Epoch 3/100\n",
      "400/400 [==============================] - 0s 253us/step - loss: 0.0050\n",
      "Epoch 4/100\n",
      "400/400 [==============================] - 0s 325us/step - loss: 0.0044\n",
      "Epoch 5/100\n",
      "400/400 [==============================] - 0s 283us/step - loss: 0.0042\n",
      "Epoch 6/100\n",
      "400/400 [==============================] - 0s 261us/step - loss: 0.0040\n",
      "Epoch 7/100\n",
      "400/400 [==============================] - 0s 302us/step - loss: 0.0039\n",
      "Epoch 8/100\n",
      "400/400 [==============================] - 0s 265us/step - loss: 0.0038\n",
      "Epoch 9/100\n",
      "400/400 [==============================] - 0s 299us/step - loss: 0.0037\n",
      "Epoch 10/100\n",
      "400/400 [==============================] - 0s 306us/step - loss: 0.0037\n",
      "Epoch 11/100\n",
      "400/400 [==============================] - 0s 274us/step - loss: 0.0036\n",
      "Epoch 12/100\n",
      "400/400 [==============================] - 0s 282us/step - loss: 0.0036\n",
      "Epoch 13/100\n",
      "400/400 [==============================] - 0s 492us/step - loss: 0.0037\n",
      "Epoch 14/100\n",
      "400/400 [==============================] - 0s 359us/step - loss: 0.0036\n",
      "Epoch 15/100\n",
      "400/400 [==============================] - 0s 331us/step - loss: 0.0036\n",
      "Epoch 16/100\n",
      "400/400 [==============================] - 0s 415us/step - loss: 0.0036\n",
      "Epoch 17/100\n",
      "400/400 [==============================] - 0s 421us/step - loss: 0.0035\n",
      "Epoch 18/100\n",
      "400/400 [==============================] - 0s 260us/step - loss: 0.0035\n",
      "Epoch 19/100\n",
      "400/400 [==============================] - 0s 303us/step - loss: 0.0035\n",
      "Epoch 20/100\n",
      "400/400 [==============================] - 0s 282us/step - loss: 0.0035\n",
      "Epoch 21/100\n",
      "400/400 [==============================] - 0s 280us/step - loss: 0.0036\n",
      "Epoch 22/100\n",
      "400/400 [==============================] - 0s 281us/step - loss: 0.0035\n",
      "Epoch 23/100\n",
      "400/400 [==============================] - 0s 404us/step - loss: 0.0035\n",
      "Epoch 24/100\n",
      "400/400 [==============================] - 0s 448us/step - loss: 0.0035\n",
      "Epoch 25/100\n",
      "400/400 [==============================] - 0s 470us/step - loss: 0.0034\n",
      "Epoch 26/100\n",
      "400/400 [==============================] - 0s 350us/step - loss: 0.0034\n",
      "Epoch 27/100\n",
      "400/400 [==============================] - 0s 253us/step - loss: 0.0034\n",
      "Epoch 28/100\n",
      "400/400 [==============================] - 0s 253us/step - loss: 0.0036\n",
      "Epoch 29/100\n",
      "400/400 [==============================] - 0s 378us/step - loss: 0.0035\n",
      "Epoch 30/100\n",
      "400/400 [==============================] - 0s 411us/step - loss: 0.0034\n",
      "Epoch 31/100\n",
      "400/400 [==============================] - 0s 266us/step - loss: 0.0037\n",
      "Epoch 32/100\n",
      "400/400 [==============================] - 0s 283us/step - loss: 0.0034\n",
      "Epoch 33/100\n",
      "400/400 [==============================] - 0s 470us/step - loss: 0.0033\n",
      "Epoch 34/100\n",
      "400/400 [==============================] - 0s 541us/step - loss: 0.0035\n",
      "Epoch 35/100\n",
      "400/400 [==============================] - 0s 399us/step - loss: 0.0034\n",
      "Epoch 36/100\n",
      "400/400 [==============================] - 0s 442us/step - loss: 0.0035\n",
      "Epoch 37/100\n",
      "400/400 [==============================] - 0s 360us/step - loss: 0.0034\n",
      "Epoch 38/100\n",
      "400/400 [==============================] - 0s 280us/step - loss: 0.0035\n",
      "Epoch 39/100\n",
      "400/400 [==============================] - 0s 304us/step - loss: 0.0034\n",
      "Epoch 40/100\n",
      "400/400 [==============================] - 0s 270us/step - loss: 0.0034\n",
      "Epoch 41/100\n",
      "400/400 [==============================] - 0s 460us/step - loss: 0.0035\n",
      "Epoch 42/100\n",
      "400/400 [==============================] - 0s 270us/step - loss: 0.0033\n",
      "Epoch 43/100\n",
      "400/400 [==============================] - 0s 305us/step - loss: 0.0034\n",
      "Epoch 44/100\n",
      "400/400 [==============================] - 0s 284us/step - loss: 0.0033\n",
      "Epoch 45/100\n",
      "400/400 [==============================] - 0s 263us/step - loss: 0.0035\n",
      "Epoch 46/100\n",
      "400/400 [==============================] - 0s 280us/step - loss: 0.0033\n",
      "Epoch 47/100\n",
      "400/400 [==============================] - 0s 329us/step - loss: 0.0033\n",
      "Epoch 48/100\n",
      "400/400 [==============================] - 0s 318us/step - loss: 0.0033\n",
      "Epoch 49/100\n",
      "400/400 [==============================] - 0s 324us/step - loss: 0.0035\n",
      "Epoch 50/100\n",
      "400/400 [==============================] - 0s 336us/step - loss: 0.0033\n",
      "Epoch 51/100\n",
      "400/400 [==============================] - 0s 299us/step - loss: 0.0033\n",
      "Epoch 52/100\n",
      "400/400 [==============================] - 0s 257us/step - loss: 0.0033\n",
      "Epoch 53/100\n",
      "400/400 [==============================] - 0s 278us/step - loss: 0.0033\n",
      "Epoch 54/100\n",
      "400/400 [==============================] - 0s 299us/step - loss: 0.0033\n",
      "Epoch 55/100\n",
      "400/400 [==============================] - 0s 296us/step - loss: 0.0033\n",
      "Epoch 56/100\n",
      "400/400 [==============================] - 0s 308us/step - loss: 0.0033\n",
      "Epoch 57/100\n",
      "400/400 [==============================] - 0s 505us/step - loss: 0.0033\n",
      "Epoch 58/100\n",
      "400/400 [==============================] - 0s 269us/step - loss: 0.0033\n",
      "Epoch 59/100\n",
      "400/400 [==============================] - 0s 321us/step - loss: 0.0033\n",
      "Epoch 60/100\n",
      "400/400 [==============================] - 0s 302us/step - loss: 0.0032\n",
      "Epoch 61/100\n",
      "400/400 [==============================] - 0s 300us/step - loss: 0.0032\n",
      "Epoch 62/100\n",
      "400/400 [==============================] - 0s 283us/step - loss: 0.0032\n",
      "Epoch 63/100\n",
      "400/400 [==============================] - 0s 346us/step - loss: 0.0034\n",
      "Epoch 64/100\n",
      "400/400 [==============================] - 0s 534us/step - loss: 0.0032\n",
      "Epoch 65/100\n",
      "400/400 [==============================] - 0s 377us/step - loss: 0.0032\n",
      "Epoch 66/100\n",
      "400/400 [==============================] - 0s 349us/step - loss: 0.0033\n",
      "Epoch 67/100\n",
      "400/400 [==============================] - 0s 268us/step - loss: 0.0032\n",
      "Epoch 68/100\n",
      "400/400 [==============================] - 0s 275us/step - loss: 0.0032\n",
      "Epoch 69/100\n",
      "400/400 [==============================] - 0s 294us/step - loss: 0.0032\n",
      "Epoch 70/100\n",
      "400/400 [==============================] - 0s 295us/step - loss: 0.0033\n",
      "Epoch 71/100\n",
      "400/400 [==============================] - 0s 284us/step - loss: 0.0033\n",
      "Epoch 72/100\n",
      "400/400 [==============================] - 0s 349us/step - loss: 0.0032\n",
      "Epoch 73/100\n",
      "400/400 [==============================] - 0s 283us/step - loss: 0.0031\n",
      "Epoch 74/100\n",
      "400/400 [==============================] - 0s 292us/step - loss: 0.0032\n",
      "Epoch 75/100\n",
      "400/400 [==============================] - 0s 298us/step - loss: 0.0032\n",
      "Epoch 76/100\n",
      "400/400 [==============================] - 0s 376us/step - loss: 0.0032\n",
      "Epoch 77/100\n",
      "400/400 [==============================] - 0s 299us/step - loss: 0.0033\n",
      "Epoch 78/100\n",
      "400/400 [==============================] - 0s 274us/step - loss: 0.0032\n",
      "Epoch 79/100\n",
      "400/400 [==============================] - 0s 276us/step - loss: 0.0034\n",
      "Epoch 80/100\n",
      "400/400 [==============================] - 0s 324us/step - loss: 0.0032\n",
      "Epoch 81/100\n",
      "400/400 [==============================] - 0s 306us/step - loss: 0.0032\n",
      "Epoch 82/100\n",
      "400/400 [==============================] - 0s 274us/step - loss: 0.0032\n",
      "Epoch 83/100\n",
      "400/400 [==============================] - 0s 274us/step - loss: 0.0031\n",
      "Epoch 84/100\n",
      "400/400 [==============================] - 0s 281us/step - loss: 0.0032\n",
      "Epoch 85/100\n",
      "400/400 [==============================] - 0s 284us/step - loss: 0.0032\n",
      "Epoch 86/100\n",
      "400/400 [==============================] - 0s 327us/step - loss: 0.0031\n",
      "Epoch 87/100\n",
      "400/400 [==============================] - 0s 291us/step - loss: 0.0033\n",
      "Epoch 88/100\n",
      "400/400 [==============================] - 0s 264us/step - loss: 0.0031\n",
      "Epoch 89/100\n",
      "400/400 [==============================] - 0s 312us/step - loss: 0.0033\n",
      "Epoch 90/100\n",
      "400/400 [==============================] - 0s 290us/step - loss: 0.0031\n",
      "Epoch 91/100\n",
      "400/400 [==============================] - 0s 294us/step - loss: 0.0031\n",
      "Epoch 92/100\n",
      "400/400 [==============================] - 0s 268us/step - loss: 0.0031\n",
      "Epoch 93/100\n",
      "400/400 [==============================] - 0s 307us/step - loss: 0.0031\n",
      "Epoch 94/100\n",
      "400/400 [==============================] - 0s 300us/step - loss: 0.0031\n",
      "Epoch 95/100\n",
      "400/400 [==============================] - 0s 274us/step - loss: 0.0031\n",
      "Epoch 96/100\n",
      "400/400 [==============================] - 0s 311us/step - loss: 0.0032\n",
      "Epoch 97/100\n",
      "400/400 [==============================] - 0s 440us/step - loss: 0.0031\n",
      "Epoch 98/100\n",
      "400/400 [==============================] - 0s 421us/step - loss: 0.0031\n",
      "Epoch 99/100\n",
      "400/400 [==============================] - 0s 411us/step - loss: 0.0031\n",
      "Epoch 100/100\n",
      "400/400 [==============================] - 0s 443us/step - loss: 0.0033\n"
     ]
    }
   ],
   "source": [
    "# https://keras.io/scikit-learn-api/\n",
    "estimator = KerasRegressor(build_fn = baseline_model, epochs=100, batch_size=3)\n",
    "\n",
    "history = estimator.fit(X_train,y_train)"
   ]
  },
  {
   "cell_type": "code",
   "execution_count": 12,
   "metadata": {
    "scrolled": false,
    "slideshow": {
     "slide_type": "subslide"
    }
   },
   "outputs": [
    {
     "data": {
      "image/png": "[encoded data removed]",
      "text/plain": [
       "<Figure size 432x288 with 1 Axes>"
      ]
     },
     "metadata": {
      "needs_background": "light"
     },
     "output_type": "display_data"
    }
   ],
   "source": [
    "# Avaliando o modelo\n",
    "plt.plot(history.history['loss'])\n",
    "\n",
    "plt.title('Model loss')\n",
    "plt.ylabel('Loss')\n",
    "plt.xlabel('Epoch')\n",
    "plt.legend(['Train', 'Test'], loc='upper left')\n",
    "plt.show()"
   ]
  },
  {
   "cell_type": "code",
   "execution_count": 13,
   "metadata": {
    "scrolled": true,
    "slideshow": {
     "slide_type": "subslide"
    }
   },
   "outputs": [
    {
     "name": "stdout",
     "output_type": "stream",
     "text": [
      "Train: r_square score:  0.8567410112924517\n",
      "\n",
      "Test: r_square score:  0.5735901699378527\n",
      "real value of y_test[1]: 0.85 -> the predict: 0.8196324\n",
      "real value of y_test[2]: 0.8 -> the predict: 0.7503713\n"
     ]
    }
   ],
   "source": [
    "# https://scikit-learn.org/stable/modules/generated/sklearn.metrics.r2_score.html\n",
    "from sklearn.metrics import r2_score\n",
    "\n",
    "train_prediction = estimator.predict(X_train)\n",
    "print(\"Train: r_square score: \", r2_score(y_train,train_prediction))\n",
    "\n",
    "prediction = estimator.predict(X_test)\n",
    "print(\"\\nTest: r_square score: \", r2_score(y_test, prediction))\n",
    "print(\"real value of y_test[1]: \" + str(y_test[1]) + \" -> the predict: \" + str(estimator.predict(X_test[[1],:])))\n",
    "print(\"real value of y_test[2]: \" + str(y_test[2]) + \" -> the predict: \" + str(estimator.predict(X_test[[2],:])))"
   ]
  },
  {
   "cell_type": "markdown",
   "metadata": {
    "slideshow": {
     "slide_type": "slide"
    }
   },
   "source": [
    "# Exercício2: Minha _segunda_ rede neural!!!\n",
    "\n",
    "<center>\n",
    "<img src=\"./images/genie.gif\" alt=\"drawing\" width=\"500px\"></center>"
   ]
  },
  {
   "cell_type": "markdown",
   "metadata": {
    "slideshow": {
     "slide_type": "subslide"
    }
   },
   "source": [
    "# Boston Housing Dataset\n",
    "\n",
    "<center>\n",
    "<img src=\"./images/boston_housing.jpeg\" alt=\"drawing\" width=\"500px\"></center>\n",
    "\n",
    "Ref: http://lib.stat.cmu.edu/datasets/boston"
   ]
  },
  {
   "cell_type": "code",
   "execution_count": null,
   "metadata": {
    "slideshow": {
     "slide_type": "subslide"
    }
   },
   "outputs": [],
   "source": [
    "# http://lib.stat.cmu.edu/datasets/boston\n",
    "from keras.datasets import boston_housing\n",
    "\n",
    "# https://keras.io/datasets/\n",
    "(train_data, train_targets), (test_data, test_targets) = boston_housing.load_data()"
   ]
  },
  {
   "cell_type": "code",
   "execution_count": null,
   "metadata": {
    "slideshow": {
     "slide_type": "subslide"
    }
   },
   "outputs": [],
   "source": [
    "# Pré processamento\n",
    "mean = train_data.mean(axis=0)\n",
    "train_data -= mean\n",
    "std = train_data.std(axis=0)\n",
    "train_data /= std\n",
    "\n",
    "test_data -= mean\n",
    "test_data /= std"
   ]
  },
  {
   "cell_type": "code",
   "execution_count": null,
   "metadata": {
    "slideshow": {
     "slide_type": "subslide"
    }
   },
   "outputs": [],
   "source": [
    "from keras import models\n",
    "from keras import layers\n",
    "\n",
    "def build_model():\n",
    "    model = models.Sequential()\n",
    "    # TODO: Construa o seu modelo\n",
    "    \n",
    "    model.add(layers.Dense(1))\n",
    "\n",
    "    model.compile(optimizer='adam',\n",
    "              loss='mean_squared_error',\n",
    "              metrics=['mae'])\n",
    "    return model"
   ]
  },
  {
   "cell_type": "code",
   "execution_count": null,
   "metadata": {
    "slideshow": {
     "slide_type": "subslide"
    }
   },
   "outputs": [],
   "source": [
    "from keras import models\n",
    "from keras import layers\n",
    "\n",
    "def build_model():\n",
    "    model = models.Sequential()\n",
    "    model.add(Dense(16, input_dim=7, activation='relu'))\n",
    "    model.add(Dense(8, input_dim=7, activation='relu'))\n",
    "    model.add(Dense(4, input_dim=7, activation='relu'))\n",
    "    model.add(layers.Dense(1))\n",
    "\n",
    "    model.compile(optimizer='adam',\n",
    "              loss='mean_squared_error',\n",
    "              metrics=['mae'])\n",
    "    return model"
   ]
  },
  {
   "cell_type": "code",
   "execution_count": null,
   "metadata": {
    "scrolled": true,
    "slideshow": {
     "slide_type": "subslide"
    }
   },
   "outputs": [],
   "source": [
    "k = 4\n",
    "num_val_samples = len(train_data) // k\n",
    "num_epochs = 100\n",
    "all_scores = []\n",
    "\n",
    "for i in range(k):\n",
    "    print(f'Processing fold # {i}')\n",
    "    val_data = train_data[i * num_val_samples: (i+1) * num_val_samples]\n",
    "    val_targets = train_targets[i * num_val_samples: (i+1) * num_val_samples]\n",
    "    \n",
    "    partial_train_data = np.concatenate(\n",
    "                            [train_data[:i * num_val_samples],\n",
    "                            train_data[(i+1) * num_val_samples:]],\n",
    "                            axis=0)\n",
    "    partial_train_targets = np.concatenate(\n",
    "                            [train_targets[:i * num_val_samples],\n",
    "                            train_targets[(i+1)*num_val_samples:]],\n",
    "                            axis=0)\n",
    "    model = build_model()\n",
    "    model.fit(partial_train_data,\n",
    "              partial_train_targets,\n",
    "              epochs=num_epochs,\n",
    "              batch_size=1,\n",
    "              verbose=0)\n",
    "    val_mse, val_mae = model.evaluate(val_data, val_targets, verbose=0)\n",
    "    all_scores.append(val_mae)"
   ]
  },
  {
   "cell_type": "code",
   "execution_count": null,
   "metadata": {
    "slideshow": {
     "slide_type": "subslide"
    }
   },
   "outputs": [],
   "source": [
    "print(f'all_scores : {all_scores}')\n",
    "print(f'mean all scores : {np.mean(all_scores)}')"
   ]
  },
  {
   "cell_type": "markdown",
   "metadata": {
    "slideshow": {
     "slide_type": "slide"
    }
   },
   "source": [
    "# Pós aula\n",
    "\n",
    "<center>\n",
    "<img src=\"./images/typing.gif\" alt=\"drawing\" width=\"300px\"></center>"
   ]
  },
  {
   "cell_type": "markdown",
   "metadata": {
    "slideshow": {
     "slide_type": "subslide"
    }
   },
   "source": [
    "## Estudo interessante: Minha primeira rede neural.ipynb\n",
    "\n",
    "## How to persist your Keras model\n",
    "https://medium.com/@stapinskirafal/how-to-persist-your-keras-model-756cbbe60d3e\n",
    "\n",
    "## Backpropagation\n",
    "https://medium.com/@nathaliejeans7/the-backpropagation-algorithm-demystified-41b705229727\n",
    "\n",
    "## Presenting Code Using Jupyter Notebook Slides\n",
    "https://medium.com/@mjspeck/presenting-code-using-jupyter-notebook-slides-a8a3c3b59d67\n",
    "\n",
    "## Understanding Activation Functions in Neural Networks\n",
    "https://medium.com/the-theory-of-everything/understanding-activation-functions-in-neural-networks-9491262884e0"
   ]
  },
  {
   "cell_type": "code",
   "execution_count": null,
   "metadata": {},
   "outputs": [],
   "source": []
  }
 ],
 "metadata": {
  "celltoolbar": "Slideshow",
  "kernelspec": {
   "display_name": "Python 3",
   "language": "python",
   "name": "python3"
  },
  "language_info": {
   "codemirror_mode": {
    "name": "ipython",
    "version": 3
   },
   "file_extension": ".py",
   "mimetype": "text/x-python",
   "name": "python",
   "nbconvert_exporter": "python",
   "pygments_lexer": "ipython3",
   "version": "3.6.7"
  }
 },
 "nbformat": 4,
 "nbformat_minor": 2
}
