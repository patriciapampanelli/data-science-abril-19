{
 "cells": [
  {
   "cell_type": "markdown",
   "metadata": {
    "slideshow": {
     "slide_type": "slide"
    }
   },
   "source": [
    "# Aula 32 - Deep Learning\n",
    "\n",
    "<center>\n",
    "<img src=\"./images/deep-learning.png\" alt=\"drawing\" width=\"500px\"></center>"
   ]
  },
  {
   "cell_type": "markdown",
   "metadata": {
    "slideshow": {
     "slide_type": "slide"
    }
   },
   "source": [
    "# Pré-aula\n",
    "\n",
    "Perceptron: The Artificial Neuron (An Essential Upgrade To The McCulloch-Pitts Neuron)\n",
    "https://towardsdatascience.com/perceptron-the-artificial-neuron-4d8c70d5cc8d\n",
    "\n",
    "What the Hell is Perceptron?\n",
    "https://towardsdatascience.com/what-the-hell-is-perceptron-626217814f53\n",
    "\n",
    "Towards Ethical Machine Learning\n",
    "https://towardsdatascience.com/towards-ethical-machine-learning-302e580f5815"
   ]
  },
  {
   "cell_type": "markdown",
   "metadata": {
    "slideshow": {
     "slide_type": "slide"
    }
   },
   "source": [
    "# Expectativas\n",
    "\n",
    "<center>\n",
    "<img src=\"./images/expectations.jpg\" alt=\"drawing\" width=\"700px\"></center>"
   ]
  },
  {
   "cell_type": "markdown",
   "metadata": {
    "slideshow": {
     "slide_type": "slide"
    }
   },
   "source": [
    "**Instrutora:** Patrícia Pampanelli (@patriciapampanelli no Slack)\n",
    "\n",
    "**Experiência:**\n",
    "- Cientista da Computação (UFJF)\n",
    "- Mestre em Modelagem Computacional (UFJF)\n",
    "- Doutora em Processamento de Imagens e Visão Computacional (PUC-Rio)\n",
    "- Sênior Data Scientist - Grupo ZAP\n"
   ]
  },
  {
   "cell_type": "markdown",
   "metadata": {
    "slideshow": {
     "slide_type": "slide"
    }
   },
   "source": [
    "**Interesses:**\n",
    "- Carros Autônomos <img src=\"./images/car.png\" alt=\"drawing\" width=\"80px\">\n",
    "- Visão Computacional <img src=\"./images/eye.png\" alt=\"drawing\" width=\"80px\">\n",
    "- Processamento de Linguagem Natural <img src=\"./images/text.png\" alt=\"drawing\" width=\"80px\">\n",
    "- Intelligent Video Analytics <img src=\"./images/camera.jpg\" alt=\"drawing\" width=\"80px\">"
   ]
  },
  {
   "cell_type": "markdown",
   "metadata": {
    "slideshow": {
     "slide_type": "slide"
    }
   },
   "source": [
    "# Recordando...\n",
    "\n",
    "<center>\n",
    "<img src=\"./images/recapitulando.png\" alt=\"drawing\" width=\"450px\"></center>"
   ]
  },
  {
   "cell_type": "markdown",
   "metadata": {
    "slideshow": {
     "slide_type": "slide"
    }
   },
   "source": [
    "# Recordando...\n",
    "\n",
    "<center>\n",
    "<img src=\"./images/recap.png\" alt=\"drawing\" width=\"650px\"></center>"
   ]
  },
  {
   "cell_type": "markdown",
   "metadata": {
    "slideshow": {
     "slide_type": "slide"
    }
   },
   "source": [
    "# Recordando...\n",
    "\n",
    "<center>\n",
    "<img src=\"./images/unsupervised.png\" alt=\"drawing\" width=\"700px\"></center>"
   ]
  },
  {
   "cell_type": "markdown",
   "metadata": {
    "slideshow": {
     "slide_type": "slide"
    }
   },
   "source": [
    "# Recordando...\n",
    "\n",
    "<center>\n",
    "<img src=\"./images/supervised.png\" alt=\"drawing\" width=\"700px\"></center>"
   ]
  },
  {
   "cell_type": "markdown",
   "metadata": {
    "slideshow": {
     "slide_type": "slide"
    }
   },
   "source": [
    "# AI mudando nossas vidas...\n",
    "\n",
    "<center>\n",
    "<img src=\"./images/iamai.jpg\" alt=\"drawing\" width=\"700px\"></center>\n",
    "https://www.youtube.com/watch?v=GiZ7kyrwZGQ"
   ]
  },
  {
   "cell_type": "markdown",
   "metadata": {
    "slideshow": {
     "slide_type": "slide"
    }
   },
   "source": [
    "<center>\n",
    "<img src=\"./images/machine-deep.png\" alt=\"drawing\" width=\"700px\"></center>"
   ]
  },
  {
   "cell_type": "markdown",
   "metadata": {
    "slideshow": {
     "slide_type": "slide"
    }
   },
   "source": [
    "# Processo de admissão de uma pós-graduação\n",
    "\n",
    "<center>\n",
    "<img src=\"./images/grad.png\" alt=\"drawing\" width=\"400px\"></center>"
   ]
  },
  {
   "cell_type": "markdown",
   "metadata": {
    "slideshow": {
     "slide_type": "subslide"
    }
   },
   "source": [
    "<center>\n",
    "<img src=\"./images/grad_1.png\" alt=\"drawing\" width=\"600px\"></center>"
   ]
  },
  {
   "cell_type": "markdown",
   "metadata": {
    "slideshow": {
     "slide_type": "subslide"
    }
   },
   "source": [
    "<center>\n",
    "<img src=\"./images/grad_2.png\" alt=\"drawing\" width=\"600px\"></center>"
   ]
  },
  {
   "cell_type": "markdown",
   "metadata": {
    "slideshow": {
     "slide_type": "subslide"
    }
   },
   "source": [
    "<center>\n",
    "<img src=\"./images/grad_3.png\" alt=\"drawing\" width=\"600px\"></center>"
   ]
  },
  {
   "cell_type": "markdown",
   "metadata": {
    "slideshow": {
     "slide_type": "subslide"
    }
   },
   "source": [
    "<center>\n",
    "<img src=\"./images/grad_4.png\" alt=\"drawing\" width=\"600px\"></center>"
   ]
  },
  {
   "cell_type": "markdown",
   "metadata": {
    "slideshow": {
     "slide_type": "subslide"
    }
   },
   "source": [
    "<center>\n",
    "<img src=\"./images/grad_5.png\" alt=\"drawing\" width=\"600px\"></center>"
   ]
  },
  {
   "cell_type": "markdown",
   "metadata": {
    "slideshow": {
     "slide_type": "subslide"
    }
   },
   "source": [
    "<center>\n",
    "<img src=\"./images/grad_6.png\" alt=\"drawing\" width=\"600px\"></center>"
   ]
  },
  {
   "cell_type": "markdown",
   "metadata": {
    "slideshow": {
     "slide_type": "subslide"
    }
   },
   "source": [
    "<center>\n",
    "<img src=\"./images/grad_7.png\" alt=\"drawing\" width=\"600px\"></center>"
   ]
  },
  {
   "cell_type": "markdown",
   "metadata": {
    "slideshow": {
     "slide_type": "subslide"
    }
   },
   "source": [
    "<center>\n",
    "<img src=\"./images/grad_8.png\" alt=\"drawing\" width=\"600px\"></center>"
   ]
  },
  {
   "cell_type": "markdown",
   "metadata": {
    "slideshow": {
     "slide_type": "slide"
    }
   },
   "source": [
    "# Perceptron\n",
    "\n",
    "<center>\n",
    "<img src=\"./images/perceptron.png\" alt=\"drawing\" width=\"700px\"></center>"
   ]
  },
  {
   "cell_type": "markdown",
   "metadata": {
    "slideshow": {
     "slide_type": "slide"
    }
   },
   "source": [
    "# Funções de ativação\n",
    "\n",
    "<center>\n",
    "<img src=\"./images/activation_functions.png\" alt=\"drawing\" width=\"800px\"></center>"
   ]
  },
  {
   "cell_type": "markdown",
   "metadata": {
    "slideshow": {
     "slide_type": "slide"
    }
   },
   "source": [
    "# Keras e Tensorflow\n",
    "\n",
    "<center>\n",
    "<img src=\"./images/keras-tensorflow.jpg\" alt=\"drawing\" width=\"800px\"></center>\n",
    "\n",
    "Ref: https://keras.io/ / https://www.tensorflow.org/"
   ]
  },
  {
   "cell_type": "markdown",
   "metadata": {
    "slideshow": {
     "slide_type": "slide"
    }
   },
   "source": [
    "# Minha primeira rede neural em Keras...\n",
    "\n",
    "<center>\n",
    "<img src=\"./images/first_neural.jpg\" alt=\"drawing\" width=\"400px\"></center>"
   ]
  },
  {
   "cell_type": "code",
   "execution_count": null,
   "metadata": {
    "scrolled": true,
    "slideshow": {
     "slide_type": "subslide"
    }
   },
   "outputs": [],
   "source": [
    "# Pacotes necessários para a construção da rede neural\n",
    "#!pip3 install keras\n",
    "import keras\n",
    "# https://keras.io/models/sequential/\n",
    "from keras.models import Sequential\n",
    "# Layers: https://keras.io/layers/core/\n",
    "from keras.layers import Dense\n",
    "# https://keras.io/scikit-learn-api/\n",
    "from keras.wrappers.scikit_learn import KerasRegressor\n",
    "print(keras.__version__)\n",
    "\n",
    "import matplotlib.pyplot as plt\n",
    "import pandas as pd"
   ]
  },
  {
   "cell_type": "code",
   "execution_count": null,
   "metadata": {
    "slideshow": {
     "slide_type": "subslide"
    }
   },
   "outputs": [],
   "source": [
    "# Dados de treinamento\n",
    "import numpy as np\n",
    "\n",
    "# Histórico / Prova\n",
    "df = pd.read_csv(\"./admission_dataset.csv\")\n",
    "df = df.rename(index=str, columns={\"GRE Score\": \"GRE\", \n",
    "                                   \"TOEFL Score\": \"TOEFL\", \n",
    "                                   \"Chance of Admit \": \"Admission_Chance\"})\n",
    "df = df.drop(\"Serial No.\", axis=1)\n",
    "df.head(10)"
   ]
  },
  {
   "cell_type": "code",
   "execution_count": null,
   "metadata": {
    "scrolled": false,
    "slideshow": {
     "slide_type": "subslide"
    }
   },
   "outputs": [],
   "source": [
    "# Criando o modelo\n",
    "def baseline_model():\n",
    "    \n",
    "    model = Sequential()    \n",
    "    model.add(Dense(4, input_dim=7, activation='relu'))\n",
    "    model.add(Dense(1, name='output'))\n",
    "    \n",
    "    # Compile model\n",
    "    model.compile(loss='mean_squared_error', optimizer='adam')\n",
    "    return model\n",
    "print(baseline_model().summary())\n",
    "\n",
    "#from keras.utils.vis_utils import plot_model\n",
    "plot_model(baseline_model(), show_shapes=True, show_layer_names=True)"
   ]
  },
  {
   "cell_type": "markdown",
   "metadata": {
    "slideshow": {
     "slide_type": "slide"
    }
   },
   "source": [
    "# Exercício 1 - Alterando a arquitetura da rede\n",
    "\n",
    "Construir uma nova rede com a seguinte arquitetura:\n",
    "\n",
    "<center>\n",
    "<img src=\"./images/model.png\" alt=\"drawing\" width=\"300px\"></center>\n",
    "\n",
    "_Tempo: 10 minutos_"
   ]
  },
  {
   "cell_type": "code",
   "execution_count": null,
   "metadata": {
    "slideshow": {
     "slide_type": "subslide"
    }
   },
   "outputs": [],
   "source": [
    "# Criando o modelo\n",
    "def baseline_model():\n",
    "    \n",
    "    model = Sequential()    \n",
    "    # TODO: Inserir as camadas de acordo com a arquitetura acima\n",
    "    \n",
    "    model.add(Dense(1))\n",
    "    \n",
    "    # Compile model\n",
    "    model.compile(loss='mean_squared_error', optimizer='adam')\n",
    "    return model\n",
    "\n",
    "print(baseline_model().summary())"
   ]
  },
  {
   "cell_type": "markdown",
   "metadata": {
    "slideshow": {
     "slide_type": "slide"
    }
   },
   "source": [
    "<center>\n",
    "<img src=\"./images/coffee.png\" alt=\"drawing\" width=\"300px\"></center>"
   ]
  },
  {
   "cell_type": "markdown",
   "metadata": {
    "slideshow": {
     "slide_type": "slide"
    }
   },
   "source": [
    "# Como uma rede neural aprende?\n",
    "\n",
    "<center>\n",
    "<img src=\"./images/math.gif\" alt=\"drawing\" width=\"700px\"></center>"
   ]
  },
  {
   "cell_type": "markdown",
   "metadata": {},
   "source": [
    "# Gradiente descendente!!\n",
    "\n",
    "<center>\n",
    "<img src=\"./images/gradient.png\" alt=\"drawing\" width=\"700px\"></center>"
   ]
  },
  {
   "cell_type": "markdown",
   "metadata": {},
   "source": [
    "# Como atualizamos os pesos da rede?\n",
    "\n",
    "## Backpropagation!\n",
    "\n",
    "<center>\n",
    "<img src=\"./images/backpropagation.png\" alt=\"drawing\" width=\"700px\"></center>"
   ]
  },
  {
   "cell_type": "code",
   "execution_count": null,
   "metadata": {
    "slideshow": {
     "slide_type": "subslide"
    }
   },
   "outputs": [],
   "source": [
    "# Pré processamento\n",
    "X = np.asarray(df.drop(\"Admission_Chance\", axis=1))\n",
    "Y = np.asarray(df[\"Admission_Chance\"])\n",
    "\n",
    "# https://scikit-learn.org/stable/modules/generated/sklearn.model_selection.train_test_split.html\n",
    "from sklearn.model_selection import train_test_split\n",
    "X_train, X_test, y_train, y_test = train_test_split(X, Y, test_size=0.2, random_state=0)\n",
    "\n",
    "# https://scikit-learn.org/stable/modules/generated/sklearn.preprocessing.MinMaxScaler.html\n",
    "from sklearn.preprocessing import MinMaxScaler\n",
    "scaler =  MinMaxScaler()\n",
    "X_train = scaler.fit_transform(X_train)\n",
    "X_test = scaler.fit_transform(X_test)"
   ]
  },
  {
   "cell_type": "code",
   "execution_count": null,
   "metadata": {
    "scrolled": true,
    "slideshow": {
     "slide_type": "subslide"
    }
   },
   "outputs": [],
   "source": [
    "estimator = KerasRegressor(build_fn = baseline_model, epochs=100, batch_size=3)\n",
    "\n",
    "history = estimator.fit(X_train,y_train)"
   ]
  },
  {
   "cell_type": "code",
   "execution_count": null,
   "metadata": {
    "scrolled": false,
    "slideshow": {
     "slide_type": "subslide"
    }
   },
   "outputs": [],
   "source": [
    "# Avaliando o modelo\n",
    "plt.plot(history.history['loss'])\n",
    "\n",
    "plt.title('Model loss')\n",
    "plt.ylabel('Loss')\n",
    "plt.xlabel('Epoch')\n",
    "plt.legend(['Train', 'Test'], loc='upper left')\n",
    "plt.show()"
   ]
  },
  {
   "cell_type": "code",
   "execution_count": null,
   "metadata": {
    "scrolled": true
   },
   "outputs": [],
   "source": [
    "from sklearn.metrics import r2_score\n",
    "\n",
    "train_prediction = estimator.predict(X_train)\n",
    "print(\"Train: r_square score: \", r2_score(y_train,train_prediction))\n",
    "\n",
    "prediction = estimator.predict(X_test)\n",
    "print(\"\\nTest: r_square score: \", r2_score(y_test, prediction))\n",
    "print(\"real value of y_test[1]: \" + str(y_test[1]) + \" -> the predict: \" + str(estimator.predict(X_test[[1],:])))\n",
    "print(\"real value of y_test[2]: \" + str(y_test[2]) + \" -> the predict: \" + str(estimator.predict(X_test[[2],:])))"
   ]
  },
  {
   "cell_type": "markdown",
   "metadata": {
    "slideshow": {
     "slide_type": "slide"
    }
   },
   "source": [
    "# Exercício2: Minha _segunda_ rede neural!!!\n",
    "\n",
    "<center>\n",
    "<img src=\"./images/genie.gif\" alt=\"drawing\" width=\"500px\"></center>"
   ]
  },
  {
   "cell_type": "markdown",
   "metadata": {
    "slideshow": {
     "slide_type": "subslide"
    }
   },
   "source": [
    "# Boston Housing Dataset\n",
    "\n",
    "<center>\n",
    "<img src=\"./images/boston_housing.jpeg\" alt=\"drawing\" width=\"500px\"></center>\n",
    "\n",
    "Ref: http://lib.stat.cmu.edu/datasets/boston"
   ]
  },
  {
   "cell_type": "code",
   "execution_count": null,
   "metadata": {
    "slideshow": {
     "slide_type": "subslide"
    }
   },
   "outputs": [],
   "source": [
    "# http://lib.stat.cmu.edu/datasets/boston\n",
    "from keras.datasets import boston_housing\n",
    "\n",
    "(train_data, train_targets), (test_data, test_targets) = boston_housing.load_data()"
   ]
  },
  {
   "cell_type": "code",
   "execution_count": null,
   "metadata": {
    "slideshow": {
     "slide_type": "subslide"
    }
   },
   "outputs": [],
   "source": [
    "# Pré processamento\n",
    "mean = train_data.mean(axis=0)\n",
    "train_data -= mean\n",
    "std = train_data.std(axis=0)\n",
    "train_data /= std\n",
    "\n",
    "test_data -= mean\n",
    "test_data /= std"
   ]
  },
  {
   "cell_type": "code",
   "execution_count": null,
   "metadata": {
    "slideshow": {
     "slide_type": "subslide"
    }
   },
   "outputs": [],
   "source": [
    "from keras import models\n",
    "from keras import layers\n",
    "\n",
    "def build_model():\n",
    "    model = models.Sequential()\n",
    "    # TODO: Construa o seu modelo\n",
    "    \n",
    "    model.add(layers.Dense(1))\n",
    "\n",
    "    model.compile(optimizer='adam',\n",
    "              loss='mean_squared_error',\n",
    "              metrics=['mae'])\n",
    "    return model"
   ]
  },
  {
   "cell_type": "code",
   "execution_count": null,
   "metadata": {
    "scrolled": true,
    "slideshow": {
     "slide_type": "subslide"
    }
   },
   "outputs": [],
   "source": [
    "k = 4\n",
    "num_val_samples = len(train_data) // k\n",
    "num_epochs = 100\n",
    "all_scores = []\n",
    "\n",
    "for i in range(k):\n",
    "    print(f'Processing fold # {i}')\n",
    "    val_data = train_data[i * num_val_samples: (i+1) * num_val_samples]\n",
    "    val_targets = train_targets[i * num_val_samples: (i+1) * num_val_samples]\n",
    "    \n",
    "    partial_train_data = np.concatenate(\n",
    "                            [train_data[:i * num_val_samples],\n",
    "                            train_data[(i+1) * num_val_samples:]],\n",
    "                            axis=0)\n",
    "    partial_train_targets = np.concatenate(\n",
    "                            [train_targets[:i * num_val_samples],\n",
    "                            train_targets[(i+1)*num_val_samples:]],\n",
    "                            axis=0)\n",
    "    model = build_model()\n",
    "    model.fit(partial_train_data,\n",
    "              partial_train_targets,\n",
    "              epochs=num_epochs,\n",
    "              batch_size=1,\n",
    "              verbose=0)\n",
    "    val_mse, val_mae = model.evaluate(val_data, val_targets, verbose=0)\n",
    "    all_scores.append(val_mae)"
   ]
  },
  {
   "cell_type": "code",
   "execution_count": null,
   "metadata": {
    "slideshow": {
     "slide_type": "subslide"
    }
   },
   "outputs": [],
   "source": [
    "print(f'all_scores : {all_scores}')\n",
    "print(f'mean all scores : {np.mean(all_scores)}')"
   ]
  },
  {
   "cell_type": "markdown",
   "metadata": {
    "slideshow": {
     "slide_type": "slide"
    }
   },
   "source": [
    "# Pós aula\n",
    "\n",
    "<center>\n",
    "<img src=\"./images/typing.gif\" alt=\"drawing\" width=\"300px\"></center>"
   ]
  },
  {
   "cell_type": "markdown",
   "metadata": {},
   "source": [
    "## Estudo interessante: Minha primeira rede neural.ipynb\n",
    "\n",
    "## How to persist your Keras model\n",
    "https://medium.com/@stapinskirafal/how-to-persist-your-keras-model-756cbbe60d3e\n",
    "\n",
    "## Backpropagation\n",
    "https://medium.com/@nathaliejeans7/the-backpropagation-algorithm-demystified-41b705229727\n",
    "\n",
    "## Presenting Code Using Jupyter Notebook Slides\n",
    "https://medium.com/@mjspeck/presenting-code-using-jupyter-notebook-slides-a8a3c3b59d67\n",
    "\n",
    "## Understanding Activation Functions in Neural Networks\n",
    "https://medium.com/the-theory-of-everything/understanding-activation-functions-in-neural-networks-9491262884e0"
   ]
  }
 ],
 "metadata": {
  "celltoolbar": "Slideshow",
  "kernelspec": {
   "display_name": "Python 3",
   "language": "python",
   "name": "python3"
  },
  "language_info": {
   "codemirror_mode": {
    "name": "ipython",
    "version": 3
   },
   "file_extension": ".py",
   "mimetype": "text/x-python",
   "name": "python",
   "nbconvert_exporter": "python",
   "pygments_lexer": "ipython3",
   "version": "3.6.7"
  }
 },
 "nbformat": 4,
 "nbformat_minor": 2
}
