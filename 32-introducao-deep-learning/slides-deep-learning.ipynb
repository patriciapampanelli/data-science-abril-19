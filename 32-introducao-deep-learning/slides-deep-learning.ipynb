{
 "cells": [
  {
   "cell_type": "markdown",
   "metadata": {
    "slideshow": {
     "slide_type": "slide"
    }
   },
   "source": [
    "# Aula 32 - Deep Learning\n",
    "\n",
    "<center>\n",
    "<img src=\"./images/deep-learning.png\" alt=\"drawing\" width=\"500px\"></center>"
   ]
  },
  {
   "cell_type": "markdown",
   "metadata": {},
   "source": [
    "# Pré-aula\n",
    "\n",
    "Perceptron: The Artificial Neuron (An Essential Upgrade To The McCulloch-Pitts Neuron)\n",
    "https://towardsdatascience.com/perceptron-the-artificial-neuron-4d8c70d5cc8d\n",
    "\n",
    "What the Hell is Perceptron?\n",
    "https://towardsdatascience.com/what-the-hell-is-perceptron-626217814f53\n",
    "\n",
    "Towards Ethical Machine Learning\n",
    "https://towardsdatascience.com/towards-ethical-machine-learning-302e580f5815"
   ]
  },
  {
   "cell_type": "markdown",
   "metadata": {
    "slideshow": {
     "slide_type": "slide"
    }
   },
   "source": [
    "# Expectativas\n",
    "\n",
    "<center>\n",
    "<img src=\"./images/expectations.jpg\" alt=\"drawing\" width=\"700px\"></center>"
   ]
  },
  {
   "cell_type": "markdown",
   "metadata": {
    "slideshow": {
     "slide_type": "slide"
    }
   },
   "source": [
    "**Instrutora:** Patrícia Pampanelli (@patriciapampanelli no Slack)\n",
    "\n",
    "**Experiência:**\n",
    "- Cientista da Computação (UFJF)\n",
    "- Mestre em Modelagem Computacional (UFJF)\n",
    "- Doutora em Processamento de Imagens e Visão Computacional (PUC-Rio)\n",
    "- Sênior Data Scientist - Grupo ZAP\n"
   ]
  },
  {
   "cell_type": "markdown",
   "metadata": {
    "slideshow": {
     "slide_type": "slide"
    }
   },
   "source": [
    "**Interesses:**\n",
    "- Carros Autônomos <img src=\"./images/car.png\" alt=\"drawing\" width=\"80px\">\n",
    "- Visão Computacional <img src=\"./images/eye.png\" alt=\"drawing\" width=\"80px\">\n",
    "- Processamento de Linguagem Natural <img src=\"./images/text.png\" alt=\"drawing\" width=\"80px\">\n",
    "- Intelligent Video Analytics <img src=\"./images/camera.jpg\" alt=\"drawing\" width=\"80px\">"
   ]
  },
  {
   "cell_type": "markdown",
   "metadata": {
    "slideshow": {
     "slide_type": "slide"
    }
   },
   "source": [
    "# Recordando...\n",
    "\n",
    "<center>\n",
    "<img src=\"./images/recapitulando.png\" alt=\"drawing\" width=\"450px\"></center>"
   ]
  },
  {
   "cell_type": "markdown",
   "metadata": {
    "slideshow": {
     "slide_type": "slide"
    }
   },
   "source": [
    "# Recordando...\n",
    "\n",
    "<center>\n",
    "<img src=\"./images/recap.png\" alt=\"drawing\" width=\"650px\"></center>"
   ]
  },
  {
   "cell_type": "markdown",
   "metadata": {
    "slideshow": {
     "slide_type": "slide"
    }
   },
   "source": [
    "# Recordando...\n",
    "\n",
    "<center>\n",
    "<img src=\"./images/unsupervised.png\" alt=\"drawing\" width=\"700px\"></center>"
   ]
  },
  {
   "cell_type": "markdown",
   "metadata": {
    "slideshow": {
     "slide_type": "slide"
    }
   },
   "source": [
    "# Recordando...\n",
    "\n",
    "<center>\n",
    "<img src=\"./images/supervised.png\" alt=\"drawing\" width=\"700px\"></center>"
   ]
  },
  {
   "cell_type": "markdown",
   "metadata": {
    "slideshow": {
     "slide_type": "slide"
    }
   },
   "source": [
    "# AI mudando nossas vidas...\n",
    "\n",
    "<center>\n",
    "<img src=\"./images/iamai.jpg\" alt=\"drawing\" width=\"700px\"></center>\n",
    "https://www.youtube.com/watch?v=GiZ7kyrwZGQ"
   ]
  },
  {
   "cell_type": "markdown",
   "metadata": {
    "slideshow": {
     "slide_type": "slide"
    }
   },
   "source": [
    "<center>\n",
    "<img src=\"./images/machine-deep.png\" alt=\"drawing\" width=\"700px\"></center>"
   ]
  },
  {
   "cell_type": "markdown",
   "metadata": {
    "slideshow": {
     "slide_type": "slide"
    }
   },
   "source": [
    "# Processo de admissão de uma pós-graduação\n",
    "\n",
    "<center>\n",
    "<img src=\"./images/grad.png\" alt=\"drawing\" width=\"400px\"></center>"
   ]
  },
  {
   "cell_type": "markdown",
   "metadata": {
    "slideshow": {
     "slide_type": "subslide"
    }
   },
   "source": [
    "<center>\n",
    "<img src=\"./images/grad_1.png\" alt=\"drawing\" width=\"600px\"></center>"
   ]
  },
  {
   "cell_type": "markdown",
   "metadata": {
    "slideshow": {
     "slide_type": "subslide"
    }
   },
   "source": [
    "<center>\n",
    "<img src=\"./images/grad_2.png\" alt=\"drawing\" width=\"600px\"></center>"
   ]
  },
  {
   "cell_type": "markdown",
   "metadata": {
    "slideshow": {
     "slide_type": "subslide"
    }
   },
   "source": [
    "<center>\n",
    "<img src=\"./images/grad_3.png\" alt=\"drawing\" width=\"600px\"></center>"
   ]
  },
  {
   "cell_type": "markdown",
   "metadata": {
    "slideshow": {
     "slide_type": "subslide"
    }
   },
   "source": [
    "<center>\n",
    "<img src=\"./images/grad_4.png\" alt=\"drawing\" width=\"600px\"></center>"
   ]
  },
  {
   "cell_type": "markdown",
   "metadata": {
    "slideshow": {
     "slide_type": "subslide"
    }
   },
   "source": [
    "<center>\n",
    "<img src=\"./images/grad_5.png\" alt=\"drawing\" width=\"600px\"></center>"
   ]
  },
  {
   "cell_type": "markdown",
   "metadata": {
    "slideshow": {
     "slide_type": "subslide"
    }
   },
   "source": [
    "<center>\n",
    "<img src=\"./images/grad_6.png\" alt=\"drawing\" width=\"600px\"></center>"
   ]
  },
  {
   "cell_type": "markdown",
   "metadata": {
    "slideshow": {
     "slide_type": "subslide"
    }
   },
   "source": [
    "<center>\n",
    "<img src=\"./images/grad_7.png\" alt=\"drawing\" width=\"600px\"></center>"
   ]
  },
  {
   "cell_type": "markdown",
   "metadata": {
    "slideshow": {
     "slide_type": "subslide"
    }
   },
   "source": [
    "<center>\n",
    "<img src=\"./images/grad_8.png\" alt=\"drawing\" width=\"600px\"></center>"
   ]
  },
  {
   "cell_type": "markdown",
   "metadata": {
    "slideshow": {
     "slide_type": "slide"
    }
   },
   "source": [
    "# Perceptron\n",
    "\n",
    "<center>\n",
    "<img src=\"./images/perceptron.png\" alt=\"drawing\" width=\"700px\"></center>"
   ]
  },
  {
   "cell_type": "markdown",
   "metadata": {
    "slideshow": {
     "slide_type": "slide"
    }
   },
   "source": [
    "# Funções de ativação\n",
    "\n",
    "<center>\n",
    "<img src=\"./images/activation_functions.png\" alt=\"drawing\" width=\"800px\"></center>"
   ]
  },
  {
   "cell_type": "markdown",
   "metadata": {
    "slideshow": {
     "slide_type": "slide"
    }
   },
   "source": [
    "# Keras e Tensorflow\n",
    "\n",
    "<center>\n",
    "<img src=\"./images/keras-tensorflow.jpg\" alt=\"drawing\" width=\"800px\"></center>\n",
    "\n",
    "Ref: https://keras.io/ / https://www.tensorflow.org/"
   ]
  },
  {
   "cell_type": "markdown",
   "metadata": {
    "slideshow": {
     "slide_type": "slide"
    }
   },
   "source": [
    "# Minha primeira rede neural em Keras...\n",
    "\n",
    "<center>\n",
    "<img src=\"./images/first_neural.jpg\" alt=\"drawing\" width=\"400px\"></center>"
   ]
  },
  {
   "cell_type": "code",
   "execution_count": 1,
   "metadata": {
    "scrolled": true,
    "slideshow": {
     "slide_type": "subslide"
    }
   },
   "outputs": [
    {
     "name": "stderr",
     "output_type": "stream",
     "text": [
      "Using TensorFlow backend.\n"
     ]
    }
   ],
   "source": [
    "# Pacotes necessários para a construção da rede neural\n",
    "#!pip3 install keras\n",
    "from keras.models import Sequential\n",
    "from keras.layers import Dense\n",
    "from keras.wrappers.scikit_learn import KerasRegressor\n",
    "\n",
    "import matplotlib.pyplot as plt\n",
    "import pandas as pd"
   ]
  },
  {
   "cell_type": "code",
   "execution_count": 2,
   "metadata": {
    "slideshow": {
     "slide_type": "subslide"
    }
   },
   "outputs": [
    {
     "data": {
      "text/html": [
       "<div>\n",
       "<style scoped>\n",
       "    .dataframe tbody tr th:only-of-type {\n",
       "        vertical-align: middle;\n",
       "    }\n",
       "\n",
       "    .dataframe tbody tr th {\n",
       "        vertical-align: top;\n",
       "    }\n",
       "\n",
       "    .dataframe thead th {\n",
       "        text-align: right;\n",
       "    }\n",
       "</style>\n",
       "<table border=\"1\" class=\"dataframe\">\n",
       "  <thead>\n",
       "    <tr style=\"text-align: right;\">\n",
       "      <th></th>\n",
       "      <th>GRE</th>\n",
       "      <th>TOEFL</th>\n",
       "      <th>University Rating</th>\n",
       "      <th>SOP</th>\n",
       "      <th>LOR</th>\n",
       "      <th>CGPA</th>\n",
       "      <th>Research</th>\n",
       "      <th>Admission_Chance</th>\n",
       "    </tr>\n",
       "  </thead>\n",
       "  <tbody>\n",
       "    <tr>\n",
       "      <th>0</th>\n",
       "      <td>337</td>\n",
       "      <td>118</td>\n",
       "      <td>4</td>\n",
       "      <td>4.5</td>\n",
       "      <td>4.5</td>\n",
       "      <td>9.65</td>\n",
       "      <td>1</td>\n",
       "      <td>0.92</td>\n",
       "    </tr>\n",
       "    <tr>\n",
       "      <th>1</th>\n",
       "      <td>324</td>\n",
       "      <td>107</td>\n",
       "      <td>4</td>\n",
       "      <td>4.0</td>\n",
       "      <td>4.5</td>\n",
       "      <td>8.87</td>\n",
       "      <td>1</td>\n",
       "      <td>0.76</td>\n",
       "    </tr>\n",
       "    <tr>\n",
       "      <th>2</th>\n",
       "      <td>316</td>\n",
       "      <td>104</td>\n",
       "      <td>3</td>\n",
       "      <td>3.0</td>\n",
       "      <td>3.5</td>\n",
       "      <td>8.00</td>\n",
       "      <td>1</td>\n",
       "      <td>0.72</td>\n",
       "    </tr>\n",
       "    <tr>\n",
       "      <th>3</th>\n",
       "      <td>322</td>\n",
       "      <td>110</td>\n",
       "      <td>3</td>\n",
       "      <td>3.5</td>\n",
       "      <td>2.5</td>\n",
       "      <td>8.67</td>\n",
       "      <td>1</td>\n",
       "      <td>0.80</td>\n",
       "    </tr>\n",
       "    <tr>\n",
       "      <th>4</th>\n",
       "      <td>314</td>\n",
       "      <td>103</td>\n",
       "      <td>2</td>\n",
       "      <td>2.0</td>\n",
       "      <td>3.0</td>\n",
       "      <td>8.21</td>\n",
       "      <td>0</td>\n",
       "      <td>0.65</td>\n",
       "    </tr>\n",
       "    <tr>\n",
       "      <th>5</th>\n",
       "      <td>330</td>\n",
       "      <td>115</td>\n",
       "      <td>5</td>\n",
       "      <td>4.5</td>\n",
       "      <td>3.0</td>\n",
       "      <td>9.34</td>\n",
       "      <td>1</td>\n",
       "      <td>0.90</td>\n",
       "    </tr>\n",
       "    <tr>\n",
       "      <th>6</th>\n",
       "      <td>321</td>\n",
       "      <td>109</td>\n",
       "      <td>3</td>\n",
       "      <td>3.0</td>\n",
       "      <td>4.0</td>\n",
       "      <td>8.20</td>\n",
       "      <td>1</td>\n",
       "      <td>0.75</td>\n",
       "    </tr>\n",
       "    <tr>\n",
       "      <th>7</th>\n",
       "      <td>308</td>\n",
       "      <td>101</td>\n",
       "      <td>2</td>\n",
       "      <td>3.0</td>\n",
       "      <td>4.0</td>\n",
       "      <td>7.90</td>\n",
       "      <td>0</td>\n",
       "      <td>0.68</td>\n",
       "    </tr>\n",
       "    <tr>\n",
       "      <th>8</th>\n",
       "      <td>302</td>\n",
       "      <td>102</td>\n",
       "      <td>1</td>\n",
       "      <td>2.0</td>\n",
       "      <td>1.5</td>\n",
       "      <td>8.00</td>\n",
       "      <td>0</td>\n",
       "      <td>0.50</td>\n",
       "    </tr>\n",
       "    <tr>\n",
       "      <th>9</th>\n",
       "      <td>323</td>\n",
       "      <td>108</td>\n",
       "      <td>3</td>\n",
       "      <td>3.5</td>\n",
       "      <td>3.0</td>\n",
       "      <td>8.60</td>\n",
       "      <td>0</td>\n",
       "      <td>0.45</td>\n",
       "    </tr>\n",
       "  </tbody>\n",
       "</table>\n",
       "</div>"
      ],
      "text/plain": [
       "   GRE  TOEFL  University Rating  SOP  LOR   CGPA  Research  Admission_Chance\n",
       "0  337    118                  4  4.5   4.5  9.65         1              0.92\n",
       "1  324    107                  4  4.0   4.5  8.87         1              0.76\n",
       "2  316    104                  3  3.0   3.5  8.00         1              0.72\n",
       "3  322    110                  3  3.5   2.5  8.67         1              0.80\n",
       "4  314    103                  2  2.0   3.0  8.21         0              0.65\n",
       "5  330    115                  5  4.5   3.0  9.34         1              0.90\n",
       "6  321    109                  3  3.0   4.0  8.20         1              0.75\n",
       "7  308    101                  2  3.0   4.0  7.90         0              0.68\n",
       "8  302    102                  1  2.0   1.5  8.00         0              0.50\n",
       "9  323    108                  3  3.5   3.0  8.60         0              0.45"
      ]
     },
     "execution_count": 2,
     "metadata": {},
     "output_type": "execute_result"
    }
   ],
   "source": [
    "#Dados de treinamento\n",
    "import numpy as np\n",
    "\n",
    "# Histórico / Prova\n",
    "df = pd.read_csv(\"./admission_dataset.csv\")\n",
    "df = df.rename(index=str, columns={\"GRE Score\": \"GRE\", \n",
    "                                   \"TOEFL Score\": \"TOEFL\", \n",
    "                                   \"Chance of Admit \": \"Admission_Chance\"})\n",
    "df = df.drop(\"Serial No.\", axis=1)\n",
    "df.head(10)"
   ]
  },
  {
   "cell_type": "code",
   "execution_count": 15,
   "metadata": {
    "slideshow": {
     "slide_type": "subslide"
    }
   },
   "outputs": [
    {
     "name": "stdout",
     "output_type": "stream",
     "text": [
      "_________________________________________________________________\n",
      "Layer (type)                 Output Shape              Param #   \n",
      "=================================================================\n",
      "dense_39 (Dense)             (None, 4)                 32        \n",
      "_________________________________________________________________\n",
      "dense_40 (Dense)             (None, 1)                 5         \n",
      "=================================================================\n",
      "Total params: 37\n",
      "Trainable params: 37\n",
      "Non-trainable params: 0\n",
      "_________________________________________________________________\n",
      "None\n"
     ]
    }
   ],
   "source": [
    "# Criando o modelo\n",
    "def baseline_model():\n",
    "    \n",
    "    model = Sequential()    \n",
    "    model.add(Dense(4, input_dim=7, activation='relu'))\n",
    "    model.add(Dense(1))\n",
    "    \n",
    "    # Compile model\n",
    "    model.compile(loss='mean_squared_error', optimizer='adam')\n",
    "    return model\n",
    "print(baseline_model().summary())\n",
    "\n",
    "#from keras.utils.vis_utils import plot_model\n",
    "plot_model(baseline_model(), show_shapes=True, show_layer_names=True)"
   ]
  },
  {
   "cell_type": "markdown",
   "metadata": {
    "slideshow": {
     "slide_type": "slide"
    }
   },
   "source": [
    "# Exercício 1 - Alterando a arquitetura da rede\n",
    "\n",
    "Construir uma nova rede com a seguinte arquitetura:\n",
    "\n",
    "<center>\n",
    "<img src=\"./images/model.png\" alt=\"drawing\" width=\"300px\"></center>\n",
    "\n",
    "_Tempo: 10 minutos_"
   ]
  },
  {
   "cell_type": "code",
   "execution_count": null,
   "metadata": {
    "slideshow": {
     "slide_type": "subslide"
    }
   },
   "outputs": [],
   "source": [
    "# Criando o modelo\n",
    "def baseline_model():\n",
    "    \n",
    "    model = Sequential()    \n",
    "    # TODO: Inserir as camadas de acordo com a arquitetura acima\n",
    "    \n",
    "    model.add(Dense(1))\n",
    "    \n",
    "    # Compile model\n",
    "    model.compile(loss='mean_squared_error', optimizer='adam')\n",
    "    return model\n",
    "\n",
    "print(baseline_model().summary())"
   ]
  },
  {
   "cell_type": "markdown",
   "metadata": {
    "slideshow": {
     "slide_type": "slide"
    }
   },
   "source": [
    "<center>\n",
    "<img src=\"./images/coffee.png\" alt=\"drawing\" width=\"300px\"></center>"
   ]
  },
  {
   "cell_type": "markdown",
   "metadata": {
    "slideshow": {
     "slide_type": "slide"
    }
   },
   "source": [
    "# Como uma rede neural aprende?\n",
    "\n",
    "<center>\n",
    "<img src=\"./images/math.gif\" alt=\"drawing\" width=\"700px\"></center>"
   ]
  },
  {
   "cell_type": "markdown",
   "metadata": {},
   "source": [
    "# Gradiente descendente!!\n",
    "\n",
    "<center>\n",
    "<img src=\"./images/gradient.png\" alt=\"drawing\" width=\"700px\"></center>"
   ]
  },
  {
   "cell_type": "markdown",
   "metadata": {},
   "source": [
    "# Como atualizamos os pesos da rede?\n",
    "\n",
    "## Backpropagation!\n",
    "\n",
    "<center>\n",
    "<img src=\"./images/backpropagation.png\" alt=\"drawing\" width=\"700px\"></center>"
   ]
  },
  {
   "cell_type": "code",
   "execution_count": 4,
   "metadata": {
    "slideshow": {
     "slide_type": "subslide"
    }
   },
   "outputs": [],
   "source": [
    "# Pré processamento\n",
    "X = np.asarray(df.drop(\"Admission_Chance\", axis=1))\n",
    "Y = np.asarray(df[\"Admission_Chance\"])\n",
    "\n",
    "# \n",
    "from sklearn.model_selection import train_test_split\n",
    "X_train, X_test, y_train, y_test = train_test_split(X, Y, test_size=0.2, random_state=0)\n",
    "\n",
    "# https://scikit-learn.org/stable/modules/generated/sklearn.preprocessing.MinMaxScaler.html\n",
    "from sklearn.preprocessing import MinMaxScaler\n",
    "scaler =  MinMaxScaler()\n",
    "X_train = scaler.fit_transform(X_train)\n",
    "X_test = scaler.fit_transform(X_test)"
   ]
  },
  {
   "cell_type": "code",
   "execution_count": 19,
   "metadata": {
    "scrolled": true,
    "slideshow": {
     "slide_type": "subslide"
    }
   },
   "outputs": [
    {
     "name": "stdout",
     "output_type": "stream",
     "text": [
      "Epoch 1/100\n",
      "400/400 [==============================] - 1s 2ms/step - loss: 0.0398\n",
      "Epoch 2/100\n",
      "400/400 [==============================] - 0s 248us/step - loss: 0.0287\n",
      "Epoch 3/100\n",
      "400/400 [==============================] - 0s 268us/step - loss: 0.0221\n",
      "Epoch 4/100\n",
      "400/400 [==============================] - 0s 285us/step - loss: 0.0177\n",
      "Epoch 5/100\n",
      "400/400 [==============================] - 0s 365us/step - loss: 0.0147\n",
      "Epoch 6/100\n",
      "400/400 [==============================] - 0s 323us/step - loss: 0.0125\n",
      "Epoch 7/100\n",
      "400/400 [==============================] - 0s 251us/step - loss: 0.0108\n",
      "Epoch 8/100\n",
      "400/400 [==============================] - 0s 281us/step - loss: 0.0096\n",
      "Epoch 9/100\n",
      "400/400 [==============================] - 0s 257us/step - loss: 0.0084\n",
      "Epoch 10/100\n",
      "400/400 [==============================] - 0s 255us/step - loss: 0.0078\n",
      "Epoch 11/100\n",
      "400/400 [==============================] - 0s 269us/step - loss: 0.0070\n",
      "Epoch 12/100\n",
      "400/400 [==============================] - 0s 259us/step - loss: 0.0065\n",
      "Epoch 13/100\n",
      "400/400 [==============================] - 0s 253us/step - loss: 0.0061\n",
      "Epoch 14/100\n",
      "400/400 [==============================] - 0s 249us/step - loss: 0.0058\n",
      "Epoch 15/100\n",
      "400/400 [==============================] - 0s 252us/step - loss: 0.0055\n",
      "Epoch 16/100\n",
      "400/400 [==============================] - 0s 263us/step - loss: 0.0052\n",
      "Epoch 17/100\n",
      "400/400 [==============================] - 0s 271us/step - loss: 0.0050\n",
      "Epoch 18/100\n",
      "400/400 [==============================] - 0s 334us/step - loss: 0.0049\n",
      "Epoch 19/100\n",
      "400/400 [==============================] - 0s 263us/step - loss: 0.0046\n",
      "Epoch 20/100\n",
      "400/400 [==============================] - 0s 278us/step - loss: 0.0045\n",
      "Epoch 21/100\n",
      "400/400 [==============================] - 0s 263us/step - loss: 0.0044\n",
      "Epoch 22/100\n",
      "400/400 [==============================] - 0s 253us/step - loss: 0.0043\n",
      "Epoch 23/100\n",
      "400/400 [==============================] - 0s 234us/step - loss: 0.0042\n",
      "Epoch 24/100\n",
      "400/400 [==============================] - 0s 302us/step - loss: 0.0041\n",
      "Epoch 25/100\n",
      "400/400 [==============================] - 0s 254us/step - loss: 0.0040\n",
      "Epoch 26/100\n",
      "400/400 [==============================] - 0s 300us/step - loss: 0.0040\n",
      "Epoch 27/100\n",
      "400/400 [==============================] - 0s 276us/step - loss: 0.0040\n",
      "Epoch 28/100\n",
      "400/400 [==============================] - 0s 255us/step - loss: 0.0039\n",
      "Epoch 29/100\n",
      "400/400 [==============================] - 0s 287us/step - loss: 0.0039\n",
      "Epoch 30/100\n",
      "400/400 [==============================] - 0s 281us/step - loss: 0.0038\n",
      "Epoch 31/100\n",
      "400/400 [==============================] - 0s 415us/step - loss: 0.0038\n",
      "Epoch 32/100\n",
      "400/400 [==============================] - 0s 354us/step - loss: 0.0038\n",
      "Epoch 33/100\n",
      "400/400 [==============================] - 0s 237us/step - loss: 0.0038\n",
      "Epoch 34/100\n",
      "400/400 [==============================] - 0s 274us/step - loss: 0.0037\n",
      "Epoch 35/100\n",
      "400/400 [==============================] - 0s 303us/step - loss: 0.0038\n",
      "Epoch 36/100\n",
      "400/400 [==============================] - 0s 424us/step - loss: 0.0037\n",
      "Epoch 37/100\n",
      "400/400 [==============================] - 0s 321us/step - loss: 0.0037\n",
      "Epoch 38/100\n",
      "400/400 [==============================] - 0s 271us/step - loss: 0.0037\n",
      "Epoch 39/100\n",
      "400/400 [==============================] - 0s 250us/step - loss: 0.0036\n",
      "Epoch 40/100\n",
      "400/400 [==============================] - 0s 272us/step - loss: 0.0037\n",
      "Epoch 41/100\n",
      "400/400 [==============================] - 0s 362us/step - loss: 0.0037\n",
      "Epoch 42/100\n",
      "400/400 [==============================] - 0s 372us/step - loss: 0.0036\n",
      "Epoch 43/100\n",
      "400/400 [==============================] - 0s 277us/step - loss: 0.0036\n",
      "Epoch 44/100\n",
      "400/400 [==============================] - 0s 271us/step - loss: 0.0036\n",
      "Epoch 45/100\n",
      "400/400 [==============================] - 0s 276us/step - loss: 0.0036\n",
      "Epoch 46/100\n",
      "400/400 [==============================] - 0s 271us/step - loss: 0.0035\n",
      "Epoch 47/100\n",
      "400/400 [==============================] - 0s 275us/step - loss: 0.0035\n",
      "Epoch 48/100\n",
      "400/400 [==============================] - 0s 272us/step - loss: 0.0035\n",
      "Epoch 49/100\n",
      "400/400 [==============================] - 0s 266us/step - loss: 0.0036\n",
      "Epoch 50/100\n",
      "400/400 [==============================] - 0s 264us/step - loss: 0.0036\n",
      "Epoch 51/100\n",
      "400/400 [==============================] - 0s 265us/step - loss: 0.0035\n",
      "Epoch 52/100\n",
      "400/400 [==============================] - 0s 296us/step - loss: 0.0035\n",
      "Epoch 53/100\n",
      "400/400 [==============================] - 0s 274us/step - loss: 0.0036\n",
      "Epoch 54/100\n",
      "400/400 [==============================] - 0s 381us/step - loss: 0.0035\n",
      "Epoch 55/100\n",
      "400/400 [==============================] - 0s 354us/step - loss: 0.0035\n",
      "Epoch 56/100\n",
      "400/400 [==============================] - 0s 300us/step - loss: 0.0035\n",
      "Epoch 57/100\n",
      "400/400 [==============================] - 0s 254us/step - loss: 0.0034\n",
      "Epoch 58/100\n",
      "400/400 [==============================] - 0s 297us/step - loss: 0.0035\n",
      "Epoch 59/100\n",
      "400/400 [==============================] - 0s 296us/step - loss: 0.0035\n",
      "Epoch 60/100\n",
      "400/400 [==============================] - 0s 383us/step - loss: 0.0035\n",
      "Epoch 61/100\n",
      "400/400 [==============================] - 0s 323us/step - loss: 0.0035\n",
      "Epoch 62/100\n",
      "400/400 [==============================] - 0s 240us/step - loss: 0.0035\n",
      "Epoch 63/100\n",
      "400/400 [==============================] - 0s 315us/step - loss: 0.0035\n",
      "Epoch 64/100\n",
      "400/400 [==============================] - 0s 353us/step - loss: 0.0035\n",
      "Epoch 65/100\n",
      "400/400 [==============================] - 0s 313us/step - loss: 0.0034\n",
      "Epoch 66/100\n",
      "400/400 [==============================] - 0s 250us/step - loss: 0.0036\n",
      "Epoch 67/100\n",
      "400/400 [==============================] - 0s 246us/step - loss: 0.0035\n",
      "Epoch 68/100\n",
      "400/400 [==============================] - 0s 267us/step - loss: 0.0035\n",
      "Epoch 69/100\n",
      "400/400 [==============================] - 0s 287us/step - loss: 0.0035\n",
      "Epoch 70/100\n",
      "400/400 [==============================] - 0s 259us/step - loss: 0.0034\n",
      "Epoch 71/100\n",
      "400/400 [==============================] - 0s 276us/step - loss: 0.0034\n",
      "Epoch 72/100\n",
      "400/400 [==============================] - 0s 292us/step - loss: 0.0034\n",
      "Epoch 73/100\n",
      "400/400 [==============================] - 0s 270us/step - loss: 0.0035\n",
      "Epoch 74/100\n",
      "400/400 [==============================] - 0s 278us/step - loss: 0.0035\n",
      "Epoch 75/100\n",
      "400/400 [==============================] - 0s 289us/step - loss: 0.0034\n",
      "Epoch 76/100\n",
      "400/400 [==============================] - 0s 286us/step - loss: 0.0034\n",
      "Epoch 77/100\n",
      "400/400 [==============================] - 0s 260us/step - loss: 0.0034\n",
      "Epoch 78/100\n",
      "400/400 [==============================] - 0s 303us/step - loss: 0.0034\n",
      "Epoch 79/100\n",
      "400/400 [==============================] - 0s 250us/step - loss: 0.0034\n",
      "Epoch 80/100\n",
      "400/400 [==============================] - 0s 268us/step - loss: 0.0035\n",
      "Epoch 81/100\n",
      "400/400 [==============================] - 0s 251us/step - loss: 0.0034\n",
      "Epoch 82/100\n",
      "400/400 [==============================] - 0s 286us/step - loss: 0.0035\n",
      "Epoch 83/100\n",
      "400/400 [==============================] - 0s 289us/step - loss: 0.0034\n",
      "Epoch 84/100\n",
      "400/400 [==============================] - 0s 278us/step - loss: 0.0034\n",
      "Epoch 85/100\n",
      "400/400 [==============================] - 0s 274us/step - loss: 0.0035\n",
      "Epoch 86/100\n",
      "400/400 [==============================] - 0s 278us/step - loss: 0.0035\n",
      "Epoch 87/100\n",
      "400/400 [==============================] - 0s 294us/step - loss: 0.0034\n",
      "Epoch 88/100\n",
      "400/400 [==============================] - 0s 278us/step - loss: 0.0035\n",
      "Epoch 89/100\n",
      "400/400 [==============================] - 0s 295us/step - loss: 0.0036\n",
      "Epoch 90/100\n",
      "400/400 [==============================] - 0s 277us/step - loss: 0.0034\n",
      "Epoch 91/100\n",
      "400/400 [==============================] - 0s 270us/step - loss: 0.0035\n",
      "Epoch 92/100\n",
      "400/400 [==============================] - 0s 304us/step - loss: 0.0034\n",
      "Epoch 93/100\n",
      "400/400 [==============================] - 0s 298us/step - loss: 0.0034\n",
      "Epoch 94/100\n",
      "400/400 [==============================] - 0s 318us/step - loss: 0.0035\n",
      "Epoch 95/100\n",
      "400/400 [==============================] - 0s 338us/step - loss: 0.0035\n",
      "Epoch 96/100\n",
      "400/400 [==============================] - 0s 340us/step - loss: 0.0034\n",
      "Epoch 97/100\n"
     ]
    },
    {
     "name": "stdout",
     "output_type": "stream",
     "text": [
      "400/400 [==============================] - 0s 289us/step - loss: 0.0034\n",
      "Epoch 98/100\n",
      "400/400 [==============================] - 0s 203us/step - loss: 0.0034\n",
      "Epoch 99/100\n",
      "400/400 [==============================] - 0s 308us/step - loss: 0.0036\n",
      "Epoch 100/100\n",
      "400/400 [==============================] - 0s 204us/step - loss: 0.0034\n"
     ]
    }
   ],
   "source": [
    "estimator = KerasRegressor(build_fn = baseline_model, epochs=100, batch_size=3)\n",
    "\n",
    "history = estimator.fit(X_train,y_train)"
   ]
  },
  {
   "cell_type": "code",
   "execution_count": 6,
   "metadata": {
    "scrolled": false,
    "slideshow": {
     "slide_type": "subslide"
    }
   },
   "outputs": [
    {
     "data": {
      "image/png": "[encoded data removed]",
      "text/plain": [
       "<Figure size 432x288 with 1 Axes>"
      ]
     },
     "metadata": {
      "needs_background": "light"
     },
     "output_type": "display_data"
    }
   ],
   "source": [
    "# Avaliando o modelo\n",
    "plt.plot(history.history['loss'])\n",
    "\n",
    "plt.title('Model loss')\n",
    "plt.ylabel('Loss')\n",
    "plt.xlabel('Epoch')\n",
    "plt.legend(['Train', 'Test'], loc='upper left')\n",
    "plt.show()"
   ]
  },
  {
   "cell_type": "code",
   "execution_count": 23,
   "metadata": {
    "scrolled": true
   },
   "outputs": [
    {
     "name": "stdout",
     "output_type": "stream",
     "text": [
      "Train: r_square score:  0.835206740282721\n",
      "\n",
      "Test: r_square score:  0.6607925705245123\n",
      "real value of y_test[1]: 0.85 -> the predict: 0.8304888\n",
      "real value of y_test[2]: 0.8 -> the predict: 0.7510835\n"
     ]
    }
   ],
   "source": [
    "from sklearn.metrics import r2_score\n",
    "\n",
    "train_prediction = estimator.predict(X_train)\n",
    "print(\"Train: r_square score: \", r2_score(y_train,train_prediction))\n",
    "\n",
    "prediction = estimator.predict(X_test)\n",
    "print(\"\\nTest: r_square score: \", r2_score(y_test, prediction))\n",
    "print(\"real value of y_test[1]: \" + str(y_test[1]) + \" -> the predict: \" + str(estimator.predict(X_test[[1],:])))\n",
    "print(\"real value of y_test[2]: \" + str(y_test[2]) + \" -> the predict: \" + str(estimator.predict(X_test[[2],:])))"
   ]
  },
  {
   "cell_type": "markdown",
   "metadata": {
    "slideshow": {
     "slide_type": "slide"
    }
   },
   "source": [
    "# Exercício2: Minha _segunda_ rede neural!!!\n",
    "\n",
    "<center>\n",
    "<img src=\"./images/genie.gif\" alt=\"drawing\" width=\"500px\"></center>"
   ]
  },
  {
   "cell_type": "code",
   "execution_count": 24,
   "metadata": {
    "slideshow": {
     "slide_type": "subslide"
    }
   },
   "outputs": [
    {
     "name": "stdout",
     "output_type": "stream",
     "text": [
      "Downloading data from https://s3.amazonaws.com/keras-datasets/boston_housing.npz\n",
      "57344/57026 [==============================] - 1s 13us/step\n"
     ]
    }
   ],
   "source": [
    "from keras.datasets import boston_housing\n",
    "\n",
    "(train_data, train_targets), (test_data, test_targets) = boston_housing.load_data()"
   ]
  },
  {
   "cell_type": "code",
   "execution_count": 34,
   "metadata": {
    "slideshow": {
     "slide_type": "subslide"
    }
   },
   "outputs": [],
   "source": [
    "# Pré processamento\n",
    "mean = train_data.mean(axis=0)\n",
    "train_data -= mean\n",
    "std = train_data.std(axis=0)\n",
    "train_data /= std\n",
    "\n",
    "test_data -= mean\n",
    "test_data /= std"
   ]
  },
  {
   "cell_type": "code",
   "execution_count": 42,
   "metadata": {
    "slideshow": {
     "slide_type": "subslide"
    }
   },
   "outputs": [],
   "source": [
    "from keras import models\n",
    "from keras import layers\n",
    "\n",
    "def build_model():\n",
    "    model = models.Sequential()\n",
    "    # TODO: Construa o seu modelo\n",
    "    \n",
    "    model.add(layers.Dense(1))\n",
    "\n",
    "    model.compile(optimizer='adam',\n",
    "              loss='mean_squared_error',\n",
    "              metrics=['mae'])\n",
    "    return model"
   ]
  },
  {
   "cell_type": "code",
   "execution_count": 43,
   "metadata": {
    "scrolled": true,
    "slideshow": {
     "slide_type": "subslide"
    }
   },
   "outputs": [
    {
     "name": "stdout",
     "output_type": "stream",
     "text": [
      "Processing fold # 0\n",
      "Processing fold # 1\n",
      "Processing fold # 2\n",
      "Processing fold # 3\n"
     ]
    }
   ],
   "source": [
    "k = 4\n",
    "num_val_samples = len(train_data) // k\n",
    "num_epochs = 100\n",
    "all_scores = []\n",
    "\n",
    "for i in range(k):\n",
    "    print(f'Processing fold # {i}')\n",
    "    val_data = train_data[i * num_val_samples: (i+1) * num_val_samples]\n",
    "    val_targets = train_targets[i * num_val_samples: (i+1) * num_val_samples]\n",
    "    \n",
    "    partial_train_data = np.concatenate(\n",
    "                            [train_data[:i * num_val_samples],\n",
    "                            train_data[(i+1) * num_val_samples:]],\n",
    "                            axis=0)\n",
    "    partial_train_targets = np.concatenate(\n",
    "                            [train_targets[:i * num_val_samples],\n",
    "                            train_targets[(i+1)*num_val_samples:]],\n",
    "                            axis=0)\n",
    "    model = build_model()\n",
    "    model.fit(partial_train_data,\n",
    "              partial_train_targets,\n",
    "              epochs=num_epochs,\n",
    "              batch_size=1,\n",
    "              verbose=0)\n",
    "    val_mse, val_mae = model.evaluate(val_data, val_targets, verbose=0)\n",
    "    all_scores.append(val_mae)"
   ]
  },
  {
   "cell_type": "code",
   "execution_count": 44,
   "metadata": {
    "slideshow": {
     "slide_type": "subslide"
    }
   },
   "outputs": [
    {
     "name": "stdout",
     "output_type": "stream",
     "text": [
      "all_scores : [3.4049755346657027, 2.909909201140451, 3.563297767450314, 3.9070234015436456]\n",
      "mean all scores : 3.446301476200028\n"
     ]
    }
   ],
   "source": [
    "print(f'all_scores : {all_scores}')\n",
    "print(f'mean all scores : {np.mean(all_scores)}')"
   ]
  },
  {
   "cell_type": "markdown",
   "metadata": {
    "slideshow": {
     "slide_type": "slide"
    }
   },
   "source": [
    "# Pós aula\n",
    "\n",
    "<center>\n",
    "<img src=\"./images/typing.gif\" alt=\"drawing\" width=\"300px\"></center>"
   ]
  },
  {
   "cell_type": "code",
   "execution_count": null,
   "metadata": {},
   "outputs": [],
   "source": []
  }
 ],
 "metadata": {
  "celltoolbar": "Slideshow",
  "kernelspec": {
   "display_name": "Python 3",
   "language": "python",
   "name": "python3"
  },
  "language_info": {
   "codemirror_mode": {
    "name": "ipython",
    "version": 3
   },
   "file_extension": ".py",
   "mimetype": "text/x-python",
   "name": "python",
   "nbconvert_exporter": "python",
   "pygments_lexer": "ipython3",
   "version": "3.6.7"
  }
 },
 "nbformat": 4,
 "nbformat_minor": 2
}
